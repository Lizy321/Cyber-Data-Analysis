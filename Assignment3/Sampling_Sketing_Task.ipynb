{
 "cells": [
  {
   "cell_type": "markdown",
   "metadata": {},
   "source": [
    "# CDA Sampling task\n",
    "### CTU-Malware-Capture-Botnet-52 or Scenario 11 in the CTU-13 dataset"
   ]
  },
  {
   "cell_type": "code",
   "execution_count": 1,
   "metadata": {},
   "outputs": [],
   "source": [
    "import pandas as pd\n",
    "import numpy as np"
   ]
  },
  {
   "cell_type": "code",
   "execution_count": 2,
   "metadata": {},
   "outputs": [
    {
     "name": "stdout",
     "output_type": "stream",
     "text": [
      "<class 'pandas.core.frame.DataFrame'>\n"
     ]
    },
    {
     "name": "stderr",
     "output_type": "stream",
     "text": [
      "/Users/lizy/anaconda3/lib/python3.6/site-packages/IPython/core/interactiveshell.py:2728: DtypeWarning: Columns (13) have mixed types. Specify dtype option on import or set low_memory=False.\n",
      "  interactivity=interactivity, compiler=compiler, result=result)\n"
     ]
    }
   ],
   "source": [
    "df = pd.read_table('capture20110818-2.pcap.netflow.labeled',delim_whitespace=True) \n",
    "print(type(df))"
   ]
  },
  {
   "cell_type": "code",
   "execution_count": 3,
   "metadata": {},
   "outputs": [
    {
     "name": "stdout",
     "output_type": "stream",
     "text": [
      "408835\n",
      "         Date          Time  Durat Prot    Src IP Addr:Port Dir  \\\n",
      "0  2011-08-18  10:39:35.289    0.0  TCP  85.3.219.122:55347  ->   \n",
      "1  2011-08-18  10:39:36.067    0.0  TCP  85.3.219.122:55347  ->   \n",
      "2  2011-08-18  10:39:36.754    0.0  TCP  85.3.219.122:55347  ->   \n",
      "3  2011-08-18  10:39:37.079    0.0  TCP   84.13.8.236:61289  ->   \n",
      "4  2011-08-18  10:39:37.186    0.0  TCP    147.32.3.51:4397  ->   \n",
      "\n",
      "     Dst IP Addr:Port Flags  Tos  Packets  Bytes  Flows       Label  \n",
      "0  147.32.84.118:6881  S_RA    0        2    120      1  Background  \n",
      "1  147.32.84.118:6881  S_RA    0        2    120      1  Background  \n",
      "2  147.32.84.118:6881  S_RA    0        2    116      1  Background  \n",
      "3  147.32.84.118:6881  S_RA    0        2    120      1  Background  \n",
      "4  147.32.87.22:10010  S_RA    0        2    116      1  Background  \n"
     ]
    }
   ],
   "source": [
    "df = df.iloc[:,:-5]\n",
    "df.columns = ['Date','Time','Durat','Prot','Src IP Addr:Port','Dir','Dst IP Addr:Port','Flags','Tos','Packets','Bytes','Flows','Label']\n",
    "LEN_DF = len(df)\n",
    "print(LEN_DF)\n",
    "print(df.head())"
   ]
  },
  {
   "cell_type": "code",
   "execution_count": 4,
   "metadata": {},
   "outputs": [
    {
     "name": "stdout",
     "output_type": "stream",
     "text": [
      "         Date          Time  Durat Prot    Src IP Addr:Port Dir  \\\n",
      "0  2011-08-18  10:39:35.289    0.0  TCP  85.3.219.122:55347  ->   \n",
      "1  2011-08-18  10:39:36.067    0.0  TCP  85.3.219.122:55347  ->   \n",
      "2  2011-08-18  10:39:36.754    0.0  TCP  85.3.219.122:55347  ->   \n",
      "3  2011-08-18  10:39:37.079    0.0  TCP   84.13.8.236:61289  ->   \n",
      "4  2011-08-18  10:39:37.186    0.0  TCP    147.32.3.51:4397  ->   \n",
      "\n",
      "     Dst IP Addr:Port Flags  Tos  Packets  Bytes  Flows       Label  \\\n",
      "0  147.32.84.118:6881  S_RA    0        2    120      1  Background   \n",
      "1  147.32.84.118:6881  S_RA    0        2    120      1  Background   \n",
      "2  147.32.84.118:6881  S_RA    0        2    116      1  Background   \n",
      "3  147.32.84.118:6881  S_RA    0        2    120      1  Background   \n",
      "4  147.32.87.22:10010  S_RA    0        2    116      1  Background   \n",
      "\n",
      "     Des_address   Port  \n",
      "0  147.32.84.118   6881  \n",
      "1  147.32.84.118   6881  \n",
      "2  147.32.84.118   6881  \n",
      "3  147.32.84.118   6881  \n",
      "4   147.32.87.22  10010  \n"
     ]
    }
   ],
   "source": [
    "#Seperate address and port\n",
    "addr = []\n",
    "port = []\n",
    "for i in df['Dst IP Addr:Port']:\n",
    "    try:\n",
    "        s = i.split(':', 1)\n",
    "        addr.append(s[0])\n",
    "        port.append(s[1])\n",
    "    except:\n",
    "        port.append('Null')\n",
    "\n",
    "df['Des_address'] = addr\n",
    "df['Port'] = port\n",
    "print(df.head())"
   ]
  },
  {
   "cell_type": "code",
   "execution_count": 5,
   "metadata": {},
   "outputs": [
    {
     "name": "stdout",
     "output_type": "stream",
     "text": [
      "Label:\n",
      "3\n",
      "['Background' 'Botnet' 'LEGITIMATE']\n",
      "Protocol:\n",
      "10\n",
      "['ARP' 'ICMP' 'IGMP' 'IPV6' 'IPX/SPX' 'PIM' 'RARP' 'RTCP' 'TCP' 'UDP']\n"
     ]
    }
   ],
   "source": [
    "label = np.unique(df['Label'].values)\n",
    "print('Label:')\n",
    "print(len(label))\n",
    "print(label)\n",
    "\n",
    "print('Protocol:')\n",
    "protocol = np.unique(df['Prot'].values)\n",
    "print(len(protocol))\n",
    "print(protocol)"
   ]
  },
  {
   "cell_type": "code",
   "execution_count": 6,
   "metadata": {},
   "outputs": [
    {
     "name": "stdout",
     "output_type": "stream",
     "text": [
      "1 6.0 78781\n"
     ]
    }
   ],
   "source": [
    "min_pac = min(df['Packets'])\n",
    "max_pac = max(df['Packets'])\n",
    "med_pac = np.median(df['Packets'].values)\n",
    "print(min_pac,med_pac,max_pac)\n",
    "s = df['Packets'].sort_values()"
   ]
  },
  {
   "cell_type": "code",
   "execution_count": 7,
   "metadata": {},
   "outputs": [],
   "source": [
    "# df_long = pd.read_table('capture20110818.biargus.long.labeled',delim_whitespace=True) \n",
    "# print(type(df_long))\n",
    "# print(df_long.head())"
   ]
  },
  {
   "cell_type": "markdown",
   "metadata": {},
   "source": [
    "#### Top 10 most frequent address before sampling"
   ]
  },
  {
   "cell_type": "code",
   "execution_count": 7,
   "metadata": {},
   "outputs": [
    {
     "name": "stdout",
     "output_type": "stream",
     "text": [
      "15258\n",
      "147.32.96.69      279763\n",
      "147.32.80.9        29441\n",
      "147.32.84.229      28445\n",
      "147.32.86.116      11692\n",
      "147.32.84.59        3324\n",
      "147.32.80.13         901\n",
      "147.32.84.118        625\n",
      "147.32.84.2          619\n",
      "209.85.149.132       571\n",
      "76.13.114.90         571\n",
      "Name: Des_address, dtype: int64\n"
     ]
    }
   ],
   "source": [
    "des_ip = np.unique(df['Des_address'])\n",
    "des_ip_sort = df['Des_address'].value_counts()\n",
    "print(len(des_ip))\n",
    "print(des_ip_sort[:10])\n",
    "ori_ip = des_ip_sort[:10].index.values"
   ]
  },
  {
   "cell_type": "markdown",
   "metadata": {},
   "source": [
    "### Sampling"
   ]
  },
  {
   "cell_type": "code",
   "execution_count": 14,
   "metadata": {},
   "outputs": [
    {
     "name": "stdout",
     "output_type": "stream",
     "text": [
      "340865\n",
      "100000\n"
     ]
    },
    {
     "name": "stderr",
     "output_type": "stream",
     "text": [
      "/Users/lizy/anaconda3/lib/python3.6/site-packages/ipykernel_launcher.py:29: RuntimeWarning: divide by zero encountered in true_divide\n"
     ]
    },
    {
     "name": "stdout",
     "output_type": "stream",
     "text": [
      "10000\n",
      "1000\n",
      "500\n",
      "100\n",
      "60\n",
      "[[ 0  1  2  3  4  5  6  7  8  9]\n",
      " [ 0  1  2  3  4  5  7  8  9 10]\n",
      " [ 0  1  2  3  4  5 11 10  8 12]\n",
      " [ 0  1  2  3  4 13 10  7  5 14]\n",
      " [ 0  1  2  3  4 15  5 16 17 18]\n",
      " [ 0  2  1 19 20 21 22 23 24 25]\n",
      " [ 0  2  1  3 26  4 27 28 29 30]]\n",
      "<class 'numpy.ndarray'>\n"
     ]
    }
   ],
   "source": [
    "import random\n",
    "from random import randint\n",
    "from time import time\n",
    "\n",
    "# select k elements \n",
    "select = [100000,10000,1000,500,100,60]\n",
    "\n",
    "#remove duplicate\n",
    "sub_df = df.iloc[:,2:12]\n",
    "sub_df = sub_df.drop_duplicates()\n",
    "print(len(sub_df))\n",
    "inx_sub = sub_df.index.values\n",
    "df = df.loc[inx_sub,:]\n",
    "LEN_DF = len(df)\n",
    "\n",
    "rand = np.random.random((LEN_DF,1))\n",
    "\n",
    "df['random'] = rand\n",
    "\n",
    "ip_list = list(ori_ip)\n",
    "time_list = []\n",
    "for k in select:\n",
    "    print(k)\n",
    "    t = time()\n",
    "    # first k items\n",
    "    samp_df = df[:k]\n",
    "    # select random sample with a probability smaller than k/i\n",
    "    index = df.index.values\n",
    "    proba = k/index\n",
    "    df['proba'] = proba\n",
    "    samples = df.loc[df['proba']<=df['random'],:]\n",
    "\n",
    "    all_sample = pd.concat([samp_df,samples])\n",
    "    #print(len(all_sample))\n",
    "    \n",
    "    sample = all_sample.sample(n=k)\n",
    "    t = time()-t\n",
    "    time_list.append(t)\n",
    "    \n",
    "    samp_des_ip_sort = sample['Des_address'].value_counts()\n",
    "    top = samp_des_ip_sort[:10]\n",
    "    ip = top.index.values\n",
    "    ip_list.extend(ip)\n",
    "    \n",
    "    \n",
    "factors, uniques = pd.factorize(ip_list)\n",
    "print(factors.reshape(7,10))\n",
    "print(type(factors))\n",
    "#print((factors,uniques))"
   ]
  },
  {
   "cell_type": "code",
   "execution_count": 32,
   "metadata": {},
   "outputs": [
    {
     "name": "stdout",
     "output_type": "stream",
     "text": [
      "   Origin  100000  10000  1000  500  100  60\n",
      "0       0       0      0     0    0    0   0\n",
      "1       1       1      2     1    1    1   1\n",
      "2       2       2      1     2    2    2   3\n",
      "3       3       3      3     3    3    4   2\n",
      "4       4       4      4     4    4    3  22\n",
      "5       5       5      5     5   14   17  23\n",
      "6       6       7      9    11   10   18  13\n",
      "7       7       9     10     8    9   19  24\n",
      "8       8       8      6    12   15   20  25\n",
      "9       9      10      8    13   16   21  26\n",
      "Time consumed:\n",
      "[[0.28203106]\n",
      " [0.19595003]\n",
      " [0.20350194]\n",
      " [0.19712377]\n",
      " [0.21821284]\n",
      " [0.21784711]]\n",
      "0.21911112467447916\n",
      "Accuracy:\n",
      "[1.0, 0.7, 0.4, 0.6, 0.5, 0.3, 0.2]\n"
     ]
    }
   ],
   "source": [
    "# IP rank comparison\n",
    "samp_ip = samp_des_ip_sort[:10].index.values\n",
    "\n",
    "comp = pd.DataFrame({'Origin':factors[:10]})\n",
    "\n",
    "for i,k in enumerate(select):\n",
    "    comp[str(k)] = factors[(i+1)*10:(i+2)*10]\n",
    "print(comp)\n",
    "\n",
    "accuracy = [sum(comp.iloc[:,i]==comp.iloc[:,0])/10. for i,k in enumerate(comp.columns)]\n",
    "print(\"Time consumed:\")\n",
    "print(np.asarray(time_list).reshape(6,1))\n",
    "print(np.mean(time_list))\n",
    "print(\"Accuracy:\")\n",
    "print(accuracy)"
   ]
  },
  {
   "cell_type": "markdown",
   "metadata": {},
   "source": [
    "# Count min sketch"
   ]
  },
  {
   "cell_type": "code",
   "execution_count": 69,
   "metadata": {},
   "outputs": [],
   "source": [
    "import count_min_sketch #see the inplementation in count_min_sketch.py file\n",
    "from time import time\n",
    "from random import randint\n",
    "\n",
    "\n",
    "# get the value and freq as input\n",
    "ip_list = des_ip_sort.index.values\n",
    "freq_list = np.array(des_ip_sort).tolist()\n",
    "#get top 10 ips\n",
    "true_10 = np.array(des_ip_sort[:10].keys())"
   ]
  },
  {
   "cell_type": "code",
   "execution_count": 70,
   "metadata": {},
   "outputs": [],
   "source": [
    "def test_cms(ip_list,freq_list,w,d):\n",
    "    mytime = 0\n",
    "    mine = count_min_sketch.CountMinSketch(w, d)\n",
    "    for ip,freq in zip(ip_list,freq_list):\n",
    "        t = time()\n",
    "        mine.update(ip, freq)\n",
    "        mytime += time() - t\n",
    "    loss= 0\n",
    "    pre_freq={}\n",
    "    for ip, freq in zip(ip_list,freq_list):\n",
    "        \n",
    "        loss += (mine.query(ip) - freq)**2\n",
    "        pre_freq[ip]=int(mine[ip])\n",
    "\n",
    "    print 'loss:', loss**0.5 / len(ip_list)\n",
    "    print 'time', mytime\n",
    "    ips=[]\n",
    "    topNum = 10\n",
    "    nlargestList = heapq.nlargest(topNum, pre_freq.values())        #get top 10  \n",
    "    for value in nlargestList:                                #print\n",
    "        for key in pre_freq:  \n",
    "            if pre_freq[key] == value:  \n",
    "                ips.append(key)\n",
    "                print key, pre_freq[key]\n",
    "    return np.array(ips)\n",
    "    "
   ]
  },
  {
   "cell_type": "code",
   "execution_count": 108,
   "metadata": {},
   "outputs": [
    {
     "name": "stdout",
     "output_type": "stream",
     "text": [
      "loss: 0.128709966236\n",
      "time 0.121211528778\n",
      "147.32.96.69 279770\n",
      "147.32.80.9 29449\n",
      "147.32.84.229 28466\n",
      "147.32.86.116 11708\n",
      "147.32.84.59 3339\n",
      "147.32.80.13 914\n",
      "147.32.84.2 633\n",
      "147.32.84.118 631\n",
      "76.13.114.90 591\n",
      "209.85.149.132 579\n",
      "the top10 accuracy is 0.8\n"
     ]
    }
   ],
   "source": [
    "ips = test_cms(ip_list,freq_list,1000,10)\n",
    "acc = sum(ips==true_10)/10.\n",
    "print 'the top10 accuracy is', acc"
   ]
  },
  {
   "cell_type": "code",
   "execution_count": 107,
   "metadata": {},
   "outputs": [
    {
     "name": "stdout",
     "output_type": "stream",
     "text": [
      "loss: 0.182796159308\n",
      "time 0.103269577026\n",
      "147.32.96.69 279791\n",
      "147.32.80.9 29462\n",
      "147.32.84.229 28475\n",
      "147.32.86.116 11731\n",
      "147.32.84.59 3350\n",
      "147.32.80.13 920\n",
      "147.32.84.118 657\n",
      "147.32.84.2 642\n",
      "209.85.149.132 599\n",
      "76.13.114.90 593\n",
      "the top10 accuracy is 0.8\n"
     ]
    }
   ],
   "source": [
    "ips = test_cms(ip_list,freq_list,800,10)\n",
    "acc = sum(ips==true_10)/10.\n",
    "print 'the top10 accuracy is', acc"
   ]
  }
 ],
 "metadata": {
  "kernelspec": {
   "display_name": "Python 3",
   "language": "python",
   "name": "python3"
  },
  "language_info": {
   "codemirror_mode": {
    "name": "ipython",
    "version": 3
   },
   "file_extension": ".py",
   "mimetype": "text/x-python",
   "name": "python",
   "nbconvert_exporter": "python",
   "pygments_lexer": "ipython3",
   "version": "3.6.4"
  }
 },
 "nbformat": 4,
 "nbformat_minor": 2
}
