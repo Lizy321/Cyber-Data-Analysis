{
 "cells": [
  {
   "cell_type": "markdown",
   "metadata": {},
   "source": [
    "# CDA Sampling task\n",
    "### CTU-Malware-Capture-Botnet-52 or Scenario 11 in the CTU-13 dataset"
   ]
  },
  {
   "cell_type": "code",
   "execution_count": 2,
   "metadata": {},
   "outputs": [],
   "source": [
    "import pandas as pd\n",
    "import numpy as np"
   ]
  },
  {
   "cell_type": "code",
   "execution_count": 3,
   "metadata": {},
   "outputs": [
    {
     "name": "stdout",
     "output_type": "stream",
     "text": [
      "<class 'pandas.core.frame.DataFrame'>\n"
     ]
    },
    {
     "name": "stderr",
     "output_type": "stream",
     "text": [
      "/usr/local/lib/python2.7/dist-packages/IPython/core/interactiveshell.py:2714: DtypeWarning: Columns (13) have mixed types. Specify dtype option on import or set low_memory=False.\n",
      "  interactivity=interactivity, compiler=compiler, result=result)\n"
     ]
    }
   ],
   "source": [
    "df = pd.read_table('capture20110818-2.pcap.netflow.labeled',delim_whitespace=True) \n",
    "print(type(df))"
   ]
  },
  {
   "cell_type": "code",
   "execution_count": 4,
   "metadata": {},
   "outputs": [
    {
     "name": "stdout",
     "output_type": "stream",
     "text": [
      "408835\n",
      "         Date          Time  Durat Prot    Src IP Addr:Port Dir  \\\n",
      "0  2011-08-18  10:39:35.289    0.0  TCP  85.3.219.122:55347  ->   \n",
      "1  2011-08-18  10:39:36.067    0.0  TCP  85.3.219.122:55347  ->   \n",
      "2  2011-08-18  10:39:36.754    0.0  TCP  85.3.219.122:55347  ->   \n",
      "3  2011-08-18  10:39:37.079    0.0  TCP   84.13.8.236:61289  ->   \n",
      "4  2011-08-18  10:39:37.186    0.0  TCP    147.32.3.51:4397  ->   \n",
      "\n",
      "     Dst IP Addr:Port Flags  Tos  Packets  Bytes  Flows       Label  \n",
      "0  147.32.84.118:6881  S_RA    0        2    120      1  Background  \n",
      "1  147.32.84.118:6881  S_RA    0        2    120      1  Background  \n",
      "2  147.32.84.118:6881  S_RA    0        2    116      1  Background  \n",
      "3  147.32.84.118:6881  S_RA    0        2    120      1  Background  \n",
      "4  147.32.87.22:10010  S_RA    0        2    116      1  Background  \n"
     ]
    }
   ],
   "source": [
    "df = df.iloc[:,:-5]\n",
    "df.columns = ['Date','Time','Durat','Prot','Src IP Addr:Port','Dir','Dst IP Addr:Port','Flags','Tos','Packets','Bytes','Flows','Label']\n",
    "LEN_DF = len(df)\n",
    "print(LEN_DF)\n",
    "print(df.head())"
   ]
  },
  {
   "cell_type": "code",
   "execution_count": 5,
   "metadata": {},
   "outputs": [
    {
     "name": "stdout",
     "output_type": "stream",
     "text": [
      "         Date          Time  Durat Prot    Src IP Addr:Port Dir  \\\n",
      "0  2011-08-18  10:39:35.289    0.0  TCP  85.3.219.122:55347  ->   \n",
      "1  2011-08-18  10:39:36.067    0.0  TCP  85.3.219.122:55347  ->   \n",
      "2  2011-08-18  10:39:36.754    0.0  TCP  85.3.219.122:55347  ->   \n",
      "3  2011-08-18  10:39:37.079    0.0  TCP   84.13.8.236:61289  ->   \n",
      "4  2011-08-18  10:39:37.186    0.0  TCP    147.32.3.51:4397  ->   \n",
      "\n",
      "     Dst IP Addr:Port Flags  Tos  Packets  Bytes  Flows       Label  \\\n",
      "0  147.32.84.118:6881  S_RA    0        2    120      1  Background   \n",
      "1  147.32.84.118:6881  S_RA    0        2    120      1  Background   \n",
      "2  147.32.84.118:6881  S_RA    0        2    116      1  Background   \n",
      "3  147.32.84.118:6881  S_RA    0        2    120      1  Background   \n",
      "4  147.32.87.22:10010  S_RA    0        2    116      1  Background   \n",
      "\n",
      "     Des_address   Port  \n",
      "0  147.32.84.118   6881  \n",
      "1  147.32.84.118   6881  \n",
      "2  147.32.84.118   6881  \n",
      "3  147.32.84.118   6881  \n",
      "4   147.32.87.22  10010  \n"
     ]
    }
   ],
   "source": [
    "#Seperate address and port\n",
    "addr = []\n",
    "port = []\n",
    "for i in df['Dst IP Addr:Port']:\n",
    "    try:\n",
    "        s = i.split(':', 1)\n",
    "        addr.append(s[0])\n",
    "        port.append(s[1])\n",
    "    except:\n",
    "        port.append('Null')\n",
    "\n",
    "df['Des_address'] = addr\n",
    "df['Port'] = port\n",
    "print(df.head())"
   ]
  },
  {
   "cell_type": "code",
   "execution_count": 6,
   "metadata": {},
   "outputs": [
    {
     "name": "stdout",
     "output_type": "stream",
     "text": [
      "Label:\n",
      "3\n",
      "['Background' 'Botnet' 'LEGITIMATE']\n",
      "Protocol:\n",
      "10\n",
      "['ARP' 'ICMP' 'IGMP' 'IPV6' 'IPX/SPX' 'PIM' 'RARP' 'RTCP' 'TCP' 'UDP']\n"
     ]
    }
   ],
   "source": [
    "label = np.unique(df['Label'].values)\n",
    "print('Label:')\n",
    "print(len(label))\n",
    "print(label)\n",
    "\n",
    "print('Protocol:')\n",
    "protocol = np.unique(df['Prot'].values)\n",
    "print(len(protocol))\n",
    "print(protocol)"
   ]
  },
  {
   "cell_type": "code",
   "execution_count": 7,
   "metadata": {},
   "outputs": [
    {
     "name": "stdout",
     "output_type": "stream",
     "text": [
      "(1, 6.0, 78781)\n"
     ]
    }
   ],
   "source": [
    "min_pac = min(df['Packets'])\n",
    "max_pac = max(df['Packets'])\n",
    "med_pac = np.median(df['Packets'].values)\n",
    "print(min_pac,med_pac,max_pac)\n",
    "s = df['Packets'].sort_values()"
   ]
  },
  {
   "cell_type": "code",
   "execution_count": 8,
   "metadata": {},
   "outputs": [],
   "source": [
    "# df_long = pd.read_table('capture20110818.biargus.long.labeled',delim_whitespace=True) \n",
    "# print(type(df_long))\n",
    "# print(df_long.head())"
   ]
  },
  {
   "cell_type": "markdown",
   "metadata": {},
   "source": [
    "#### Top 10 most frequent address before sampling"
   ]
  },
  {
   "cell_type": "code",
   "execution_count": 9,
   "metadata": {},
   "outputs": [
    {
     "name": "stdout",
     "output_type": "stream",
     "text": [
      "15258\n",
      "147.32.96.69      279763\n",
      "147.32.80.9        29441\n",
      "147.32.84.229      28445\n",
      "147.32.86.116      11692\n",
      "147.32.84.59        3324\n",
      "147.32.80.13         901\n",
      "147.32.84.118        625\n",
      "147.32.84.2          619\n",
      "76.13.114.90         571\n",
      "209.85.149.132       571\n",
      "Name: Des_address, dtype: int64\n"
     ]
    }
   ],
   "source": [
    "des_ip = np.unique(df['Des_address'])\n",
    "des_ip_sort = df['Des_address'].value_counts()\n",
    "print(len(des_ip))\n",
    "print(des_ip_sort[:10])\n",
    "ori_ip = des_ip_sort[:10].index.values"
   ]
  },
  {
   "cell_type": "markdown",
   "metadata": {},
   "source": [
    "### Sampling"
   ]
  },
  {
   "cell_type": "code",
   "execution_count": 10,
   "metadata": {},
   "outputs": [
    {
     "name": "stdout",
     "output_type": "stream",
     "text": [
      "340865\n",
      "100000\n"
     ]
    },
    {
     "name": "stderr",
     "output_type": "stream",
     "text": [
      "/usr/local/lib/python2.7/dist-packages/ipykernel_launcher.py:26: RuntimeWarning: divide by zero encountered in divide\n",
      "/usr/local/lib/python2.7/dist-packages/ipykernel_launcher.py:30: FutureWarning: Sorting because non-concatenation axis is not aligned. A future version\n",
      "of pandas will change to not sort by default.\n",
      "\n",
      "To accept the future behavior, pass 'sort=True'.\n",
      "\n",
      "To retain the current behavior and silence the warning, pass sort=False\n",
      "\n"
     ]
    },
    {
     "name": "stdout",
     "output_type": "stream",
     "text": [
      "347485\n",
      "10000\n",
      "341129\n",
      "1000\n",
      "340916\n",
      "500\n",
      "340874\n",
      "100\n",
      "340869\n",
      "60\n",
      "340869\n",
      "(array([ 0,  1,  2,  3,  4,  5,  6,  7,  8,  9,  0,  2,  1,  3,  4,  5,  8,\n",
      "        7,  9, 10,  0,  1,  2,  3,  4,  5,  7,  9,  8, 11,  0,  2,  1,  3,\n",
      "        4, 12, 13,  5, 14, 15,  0,  1,  2,  3,  4, 16, 17, 10, 18, 19,  0,\n",
      "        1,  2,  3,  4, 20, 21, 22, 23, 24,  0,  2,  1, 25, 26, 27, 28, 29,\n",
      "       30, 31]), array(['147.32.96.69', '147.32.80.9', '147.32.84.229', '147.32.86.116',\n",
      "       '147.32.84.59', '147.32.80.13', '147.32.84.118', '147.32.84.2',\n",
      "       '76.13.114.90', '209.85.149.132', '147.32.84.111', '188.138.84.239',\n",
      "       '147.32.85.26', '74.125.232.199', '147.32.87.13', '79.47.210.175',\n",
      "       '74.125.232.195', '147.32.85.118', '208.94.110.144', '188.2.49.165',\n",
      "       '74.125.79.108', '87.205.87.61', '147.32.80.105', '85.13.80.69',\n",
      "       '74.125.232.196', '212.11.63.254', '80.239.148.114',\n",
      "       '118.166.69.19', '87.6.157.242', '74.125.232.223', '147.32.87.21',\n",
      "       '195.113.232.81'], dtype=object))\n"
     ]
    }
   ],
   "source": [
    "import random\n",
    "from random import randint\n",
    "\n",
    "# select k elements \n",
    "select = [100000,10000,1000,500,100,60]\n",
    "\n",
    "#remove duplicate\n",
    "sub_df = df.iloc[:,2:12]\n",
    "sub_df = sub_df.drop_duplicates()\n",
    "print(len(sub_df))\n",
    "inx_sub = sub_df.index.values\n",
    "df = df.loc[inx_sub,:]\n",
    "LEN_DF = len(df)\n",
    "\n",
    "rand = np.random.random((LEN_DF,1))\n",
    "\n",
    "df['random'] = rand\n",
    "\n",
    "ip_list = list(ori_ip)\n",
    "for k in select:\n",
    "    print(k)\n",
    "    # first k items\n",
    "    samp_df = df[:k]\n",
    "    # select random sample with a probability smaller than k/i\n",
    "    index = df.index.values\n",
    "    proba = k/index\n",
    "    df['proba'] = proba\n",
    "    samples = df.loc[df['proba']<=df['random'],:]\n",
    "\n",
    "    all_sample = pd.concat([samp_df,samples])\n",
    "    print(len(all_sample))\n",
    "    \n",
    "    sample = all_sample.sample(n=k)\n",
    "    \n",
    "    samp_des_ip_sort = sample['Des_address'].value_counts()\n",
    "    top = samp_des_ip_sort[:10]\n",
    "    ip = top.index.values\n",
    "    ip_list.extend(ip)\n",
    "    \n",
    "    \n",
    "factors, uniques = pd.factorize(ip_list)\n",
    "print((factors,uniques))"
   ]
  },
  {
   "cell_type": "code",
   "execution_count": 11,
   "metadata": {},
   "outputs": [
    {
     "name": "stdout",
     "output_type": "stream",
     "text": [
      "   Origin  100000  10000  1000  500  100  60\n",
      "0       0       0      0     0    0    0   0\n",
      "1       1       2      1     2    1    1   2\n",
      "2       2       1      2     1    2    2   1\n",
      "3       3       3      3     3    3    3  25\n",
      "4       4       4      4     4    4    4  26\n",
      "5       5       5      5    12   16   20  27\n",
      "6       6       8      7    13   17   21  28\n",
      "7       7       7      9     5   10   22  29\n",
      "8       8       9      8    14   18   23  30\n",
      "9       9      10     11    15   19   24  31\n"
     ]
    }
   ],
   "source": [
    "# IP rank comparison\n",
    "samp_ip = samp_des_ip_sort[:10].index.values\n",
    "\n",
    "comp = pd.DataFrame({'Origin':factors[:10]})\n",
    "\n",
    "for i,k in enumerate(select):\n",
    "    comp[str(k)] = factors[(i+1)*10:(i+2)*10]\n",
    "\n",
    "print(comp)"
   ]
  },
  {
   "cell_type": "markdown",
   "metadata": {},
   "source": [
    "# Count min sketch"
   ]
  },
  {
   "cell_type": "code",
   "execution_count": 15,
   "metadata": {},
   "outputs": [],
   "source": [
    "import count_min_sketch #see the inplementation in count_min_sketch.py file\n",
    "from time import time\n",
    "from random import randint\n",
    "import heapq\n",
    "\n",
    "\n",
    "# get the value and freq as input\n",
    "ip_list = des_ip_sort.index.values\n",
    "freq_list = np.array(des_ip_sort).tolist()\n",
    "#get top 10 ips\n",
    "true_10 = np.array(des_ip_sort[:10].keys())"
   ]
  },
  {
   "cell_type": "code",
   "execution_count": 16,
   "metadata": {},
   "outputs": [],
   "source": [
    "def test_cms(ip_list,freq_list,w,d):\n",
    "    mytime = 0\n",
    "    mine = count_min_sketch.CountMinSketch(w, d)\n",
    "    for ip,freq in zip(ip_list,freq_list):\n",
    "        t = time()\n",
    "        mine.update(ip, freq)\n",
    "        mytime += time() - t\n",
    "    loss= 0\n",
    "    pre_freq={}\n",
    "    for ip, freq in zip(ip_list,freq_list):\n",
    "        \n",
    "        loss += (mine.query(ip) - freq)**2\n",
    "        pre_freq[ip]=int(mine[ip])\n",
    "\n",
    "    print 'loss:', loss**0.5 / len(ip_list)\n",
    "    print 'time', mytime\n",
    "    ips=[]\n",
    "    topNum = 10\n",
    "    nlargestList = heapq.nlargest(topNum, pre_freq.values())        #get top 10  \n",
    "    for value in nlargestList:                                #print\n",
    "        for key in pre_freq:  \n",
    "            if pre_freq[key] == value:  \n",
    "                ips.append(key)\n",
    "                print key, pre_freq[key]\n",
    "    return np.array(ips)\n",
    "    "
   ]
  },
  {
   "cell_type": "code",
   "execution_count": 27,
   "metadata": {},
   "outputs": [
    {
     "name": "stdout",
     "output_type": "stream",
     "text": [
      "loss: 0.128148847712\n",
      "time 0.118900299072\n",
      "147.32.96.69 279778\n",
      "147.32.80.9 29457\n",
      "147.32.84.229 28461\n",
      "147.32.86.116 11704\n",
      "147.32.84.59 3340\n",
      "147.32.80.13 931\n",
      "147.32.84.118 648\n",
      "147.32.84.2 632\n",
      "76.13.114.90 594\n",
      "209.85.149.132 584\n",
      "the top10 accuracy is 1.0\n"
     ]
    }
   ],
   "source": [
    "ips = test_cms(ip_list,freq_list,1000,10)\n",
    "acc = sum(ips==true_10)/10.\n",
    "print 'the top10 accuracy is', acc"
   ]
  },
  {
   "cell_type": "code",
   "execution_count": 85,
   "metadata": {},
   "outputs": [
    {
     "name": "stdout",
     "output_type": "stream",
     "text": [
      "loss: 0.269457943564\n",
      "time 0.0748283863068\n",
      "147.32.96.69 279797\n",
      "147.32.80.9 29468\n",
      "147.32.84.229 28463\n",
      "147.32.86.116 11722\n",
      "147.32.84.59 3365\n",
      "147.32.80.13 934\n",
      "147.32.84.2 649\n",
      "147.32.84.118 645\n",
      "76.13.114.90 596\n",
      "209.85.149.132 585\n",
      "the top10 accuracy is 0.8\n"
     ]
    }
   ],
   "source": [
    "ips = test_cms(ip_list,freq_list,700,5)\n",
    "acc = sum(ips==true_10)/10.\n",
    "print 'the top10 accuracy is', acc"
   ]
  },
  {
   "cell_type": "code",
   "execution_count": 23,
   "metadata": {},
   "outputs": [
    {
     "name": "stdout",
     "output_type": "stream",
     "text": [
      "147.32.96.69      279763\n",
      "147.32.80.9        29441\n",
      "147.32.84.229      28445\n",
      "147.32.86.116      11692\n",
      "147.32.84.59        3324\n",
      "147.32.80.13         901\n",
      "147.32.84.118        625\n",
      "147.32.84.2          619\n",
      "76.13.114.90         571\n",
      "209.85.149.132       571\n",
      "Name: Des_address, dtype: int64\n"
     ]
    }
   ],
   "source": [
    "print(des_ip_sort[:10])"
   ]
  }
 ],
 "metadata": {
  "kernelspec": {
   "display_name": "Python 3",
   "language": "python",
   "name": "python3"
  },
  "language_info": {
   "codemirror_mode": {
    "name": "ipython",
    "version": 2
   },
   "file_extension": ".py",
   "mimetype": "text/x-python",
   "name": "python",
   "nbconvert_exporter": "python",
   "pygments_lexer": "ipython2",
   "version": "2.7.13"
  }
 },
 "nbformat": 4,
 "nbformat_minor": 2
}
