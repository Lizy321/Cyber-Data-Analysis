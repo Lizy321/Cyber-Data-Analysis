{
 "cells": [
  {
   "cell_type": "markdown",
   "metadata": {},
   "source": [
    "# Descretization Task\n",
    "### Senario 10"
   ]
  },
  {
   "cell_type": "code",
   "execution_count": 1,
   "metadata": {},
   "outputs": [],
   "source": [
    "import pandas as pd\n",
    "import numpy as np"
   ]
  },
  {
   "cell_type": "code",
   "execution_count": 2,
   "metadata": {},
   "outputs": [
    {
     "name": "stdout",
     "output_type": "stream",
     "text": [
      "<class 'pandas.core.frame.DataFrame'>\n",
      "5180851\n",
      "         Date          Time  Durat Prot      Src IP Addr:Port Dir  \\\n",
      "0  2011-08-18  10:19:13.328  0.002  TCP   147.32.86.166:33426  ->   \n",
      "1  2011-08-18  10:19:13.328  4.995  UDP     82.39.2.249:41915  ->   \n",
      "2  2011-08-18  10:19:13.329  4.996  UDP    147.32.84.59:43087  ->   \n",
      "3  2011-08-18  10:19:13.330  0.000  TCP   147.32.86.166:42020  ->   \n",
      "4  2011-08-18  10:19:13.330  0.000  TCP  212.24.150.110:25443  ->   \n",
      "\n",
      "       Dst IP Addr:Port  Flags  Tos  Packets    Bytes  Flows       Label  \\\n",
      "0  212.24.150.110:25443  FRPA_    0        4      321      1  Background   \n",
      "1    147.32.84.59:43087    INT    0      617    40095      1  Background   \n",
      "2     82.39.2.249:41915    INT    0     1290  1909200      1  Background   \n",
      "3     147.32.192.34:993     A_    0        1       66      1  Background   \n",
      "4   147.32.86.166:33426   FPA_    0        2      169      1  Background   \n",
      "\n",
      "      Src_address   Port  Prot_fac  Flags_fac  \n",
      "0   147.32.86.166  33426         0          0  \n",
      "1     82.39.2.249  41915         1          1  \n",
      "2    147.32.84.59  43087         1          1  \n",
      "3   147.32.86.166  42020         0          2  \n",
      "4  212.24.150.110  25443         0          3  \n"
     ]
    }
   ],
   "source": [
    "df = pd.read_table('capture20110818.pcap.netflow.labeled',delim_whitespace=True) \n",
    "print(type(df))\n",
    "df = df.iloc[:,:-5]\n",
    "df.columns = ['Date','Time','Durat','Prot','Src IP Addr:Port','Dir','Dst IP Addr:Port','Flags','Tos','Packets','Bytes','Flows','Label']\n",
    "LEN_DF = len(df)\n",
    "print(LEN_DF)\n",
    "#Seperate address and port\n",
    "addr = []\n",
    "port = []\n",
    "for i in df['Src IP Addr:Port']:\n",
    "    try:\n",
    "        s = i.split(':', 1)\n",
    "        addr.append(s[0])\n",
    "        port.append(s[1])\n",
    "    except:\n",
    "        port.append('Null')\n",
    "\n",
    "df['Src_address'] = addr\n",
    "df['Port'] = port\n",
    "\n",
    "## Factorize Protocol\n",
    "pro_fac,uniques  = pd.factorize(df['Prot'])\n",
    "df['Prot_fac'] = pro_fac\n",
    "\n",
    "flag_fac,u = pd.factorize(df['Flags'])\n",
    "df['Flags_fac'] = flag_fac\n",
    "\n",
    "print(df.head())"
   ]
  },
  {
   "cell_type": "code",
   "execution_count": 3,
   "metadata": {},
   "outputs": [
    {
     "name": "stdout",
     "output_type": "stream",
     "text": [
      "Index(['TCP', 'UDP', 'ICMP', 'PIM', 'RTP', 'ARP', 'IPX/SPX', 'RTCP', 'IGMP',\n",
      "       'IPV6-ICMP', 'IPV6', 'ESP', 'LLC', 'UDT'],\n",
      "      dtype='object')\n",
      "Index(['FRPA_', 'INT', 'A_', 'FPA_', 'PA_', 'URP', '_FSPA', 'S_', 'SPA_',\n",
      "       'RA_', 'FA_', 'SRPA_', 'R_', 'FSPA_', 'RED', 'SA_', 'URN', 'ECO',\n",
      "       '_FSA', 'FSRPA_', 'URFIL', 'URH', 'FRA_', 'CON', 'FSA_', 'RPA_',\n",
      "       '_FSRPA', 'ECR', 'FS_', 'TXD', 'SEC_', 'SR_', 'FSRA_', 'F_', 'URHPRO',\n",
      "       'NNS', 'SRA_', 'SRC', '_FSRA', 'AC_', 'NRA', 'SPAC_', 'PAC_', 'FSAU_',\n",
      "       'FSRPAC_', 'URO', 'FRPAC_', 'RC_', 'URNPRO', 'FSPAC_', 'URF', 'FPAC_',\n",
      "       'FSR_', '_FSPAC', 'FSPAEC_', 'FAU_', 'MAS', 'TST', 'IRR', 'RTS', 'RTA',\n",
      "       'IRQ', 'UNK', 'MSR', 'TSR', 'SEC', 'ROB', 'MRQ', 'IAH', 'DNQ', 'PTB',\n",
      "       'PAR', 'WAY', 'PHO', '___', 'AHA', 'NRS', 'MHR', 'UR', 'NNA', 'MRP',\n",
      "       'TRC', 'DCE', 'SKP', 'DNP', 'URPRE', 'URS', 'URNU', 'URCUT', 'URISO',\n",
      "       'URHTOS', 'URHU', 'FRAC_', 'SRC_', 'RPA_FRPA'],\n",
      "      dtype='object')\n"
     ]
    }
   ],
   "source": [
    "# unique protocol\n",
    "print(uniques)\n",
    "\n",
    "# unique flags\n",
    "print(u)"
   ]
  },
  {
   "cell_type": "code",
   "execution_count": 4,
   "metadata": {},
   "outputs": [
    {
     "name": "stderr",
     "output_type": "stream",
     "text": [
      "/Users/lizy/anaconda3/lib/python3.6/site-packages/ipykernel_launcher.py:3: DeprecationWarning: \n",
      ".ix is deprecated. Please use\n",
      ".loc for label based indexing or\n",
      ".iloc for positional indexing\n",
      "\n",
      "See the documentation here:\n",
      "http://pandas.pydata.org/pandas-docs/stable/indexing.html#ix-indexer-is-deprecated\n",
      "  This is separate from the ipykernel package so we can avoid doing imports until\n"
     ]
    },
    {
     "name": "stdout",
     "output_type": "stream",
     "text": [
      "323441\n",
      "         Date          Time  Durat Prot      Src IP Addr:Port Dir  \\\n",
      "0  2011-08-18  10:20:40.906    0.0  TCP  58.188.108.203:10166  ->   \n",
      "1  2011-08-18  10:37:58.448    0.0  UDP    147.32.84.165:1025  ->   \n",
      "2  2011-08-18  10:37:58.448    0.0  UDP        147.32.80.9:53  ->   \n",
      "3  2011-08-18  10:38:00.695    0.0  UDP    147.32.84.165:1025  ->   \n",
      "4  2011-08-18  10:38:00.705    0.0  UDP        147.32.80.9:53  ->   \n",
      "\n",
      "      Dst IP Addr:Port Flags  Tos  Packets  Bytes  Flows   Label  \\\n",
      "0  147.32.84.208:44011    S_    0        1     66      1  Botnet   \n",
      "1       147.32.80.9:53   INT    0        1     64      1  Botnet   \n",
      "2   147.32.84.165:1025   INT    0        1    139      1  Botnet   \n",
      "3       147.32.80.9:53   INT    0        1     87      1  Botnet   \n",
      "4   147.32.84.165:1025   INT    0        1    503      1  Botnet   \n",
      "\n",
      "      Src_address   Port  Prot_fac  Flags_fac  \n",
      "0  58.188.108.203  10166         0          7  \n",
      "1   147.32.84.165   1025         1          1  \n",
      "2     147.32.80.9     53         1          1  \n",
      "3   147.32.84.165   1025         1          1  \n",
      "4     147.32.80.9     53         1          1  \n",
      "321917\n"
     ]
    }
   ],
   "source": [
    "# Extract records labeled as Botnet\n",
    "\n",
    "infected_df = df.ix[df['Label']=='Botnet',:]\n",
    "print(len(infected_df))\n",
    "infected_df.index = range(len(infected_df))\n",
    "print(infected_df.head())\n",
    "\n",
    "legit_df = df.ix[df['Label']=='LEGITIMATE',:]\n",
    "legit_df.index = range(len(legit_df))\n",
    "print(len(legit_df))"
   ]
  },
  {
   "cell_type": "code",
   "execution_count": 5,
   "metadata": {},
   "outputs": [
    {
     "name": "stdout",
     "output_type": "stream",
     "text": [
      "['ICMP' 'TCP' 'UDP']\n",
      "['ICMP' 'TCP' 'UDP']\n",
      "[0]\n"
     ]
    }
   ],
   "source": [
    "# Unique infected protocol\n",
    "print(np.unique(infected_df['Prot']))\n",
    "# Unique legitimate protocol\n",
    "print(np.unique(legit_df['Prot']))\n",
    "print(np.unique(infected_df['Tos']))"
   ]
  },
  {
   "cell_type": "code",
   "execution_count": 6,
   "metadata": {},
   "outputs": [
    {
     "name": "stderr",
     "output_type": "stream",
     "text": [
      "/Users/lizy/anaconda3/lib/python3.6/site-packages/numpy/core/fromnumeric.py:52: FutureWarning: reshape is deprecated and will raise in a subsequent release. Please use .values.reshape(...) instead\n",
      "  return getattr(obj, method)(*args, **kwds)\n"
     ]
    },
    {
     "data": {
      "image/png": "[encoded data removed]",
      "text/plain": [
       "<matplotlib.figure.Figure at 0x13fc31eb8>"
      ]
     },
     "metadata": {},
     "output_type": "display_data"
    },
    {
     "data": {
      "image/png": "[encoded data removed]",
      "text/plain": [
       "<matplotlib.figure.Figure at 0x142087940>"
      ]
     },
     "metadata": {},
     "output_type": "display_data"
    },
    {
     "data": {
      "image/png": "[encoded data removed]",
      "text/plain": [
       "<matplotlib.figure.Figure at 0x142135e80>"
      ]
     },
     "metadata": {},
     "output_type": "display_data"
    },
    {
     "data": {
      "image/png": "[encoded data removed]",
      "text/plain": [
       "<matplotlib.figure.Figure at 0x142119ba8>"
      ]
     },
     "metadata": {},
     "output_type": "display_data"
    },
    {
     "data": {
      "image/png": "[encoded data removed]",
      "text/plain": [
       "<matplotlib.figure.Figure at 0x1423ea358>"
      ]
     },
     "metadata": {},
     "output_type": "display_data"
    }
   ],
   "source": [
    "import matplotlib.pyplot as plt\n",
    "from pylab import *\n",
    "%matplotlib inline \n",
    "\n",
    "fig = plt.figure()\n",
    "ax = fig.add_subplot(111)\n",
    "pack = [legit_df['Packets'], infected_df['Packets']]\n",
    "ax.boxplot(pack)\n",
    "ax.set_xlabel('Legitimate VS Infected')\n",
    "ax.set_ylabel('Packets')\n",
    "\n",
    "fig = plt.figure()\n",
    "ax = fig.add_subplot(111)\n",
    "byte = [legit_df['Bytes'], infected_df['Bytes']]\n",
    "ax.boxplot(byte)\n",
    "ax.set_xlabel('Legitimate VS Infected')\n",
    "ax.set_ylabel('Bytes')\n",
    "\n",
    "fig = plt.figure()\n",
    "ax = fig.add_subplot(111)\n",
    "durat = [legit_df['Durat'], infected_df['Durat']]\n",
    "ax.boxplot(durat)\n",
    "ax.set_xlabel('Legitimate VS Infected')\n",
    "ax.set_ylabel('Duration')\n",
    "plt.savefig(\"screenshot/duration_comp.png\")\n",
    "\n",
    "fig = plt.figure()\n",
    "ax = fig.add_subplot(111)\n",
    "Flags_fac = [legit_df['Flags_fac'], infected_df['Flags_fac']]\n",
    "ax.boxplot(Flags_fac)\n",
    "ax.set_xlabel('Legitimate VS Infected')\n",
    "ax.set_ylabel('Flags factor')\n",
    "plt.savefig(\"screenshot/flags_comp.png\")\n",
    "\n",
    "fig = plt.figure()\n",
    "ax = fig.add_subplot(111)\n",
    "Prot_fac = [legit_df['Prot_fac'], infected_df['Prot_fac']]\n",
    "ax.boxplot(Prot_fac)\n",
    "ax.set_xlabel('Legitimate VS Infected')\n",
    "ax.set_ylabel('Protocol factor')\n",
    "plt.savefig(\"screenshot/prot_comp.png\")\n",
    "\n",
    "\n",
    "\n",
    "# durat = [df['Durat'], infected_df['Durat']]\n",
    "# # multiple box plots on one figure\n",
    "# plt.figure()\n",
    "# plt.boxplot(durat)\n",
    "# plt.show()"
   ]
  },
  {
   "cell_type": "markdown",
   "metadata": {},
   "source": [
    "### Select one infected host to further investigate"
   ]
  },
  {
   "cell_type": "code",
   "execution_count": 12,
   "metadata": {},
   "outputs": [
    {
     "name": "stdout",
     "output_type": "stream",
     "text": [
      "19889\n"
     ]
    }
   ],
   "source": [
    "select = infected_df['Src_address'][1]\n",
    "\n",
    "host = infected_df.ix[infected_df['Src_address'] == select,:]\n",
    "print(len(host))"
   ]
  },
  {
   "cell_type": "code",
   "execution_count": 9,
   "metadata": {},
   "outputs": [
    {
     "name": "stdout",
     "output_type": "stream",
     "text": [
      "          Date          Time  Durat Prot Src IP Addr:Port Dir  \\\n",
      "2   2011-08-18  10:37:58.448    0.0  UDP   147.32.80.9:53  ->   \n",
      "4   2011-08-18  10:38:00.705    0.0  UDP   147.32.80.9:53  ->   \n",
      "8   2011-08-18  10:38:03.266    0.0  UDP   147.32.80.9:53  ->   \n",
      "12  2011-08-18  10:43:13.002    0.0  UDP   147.32.80.9:53  ->   \n",
      "14  2011-08-18  10:43:15.269    0.0  UDP   147.32.80.9:53  ->   \n",
      "18  2011-08-18  10:43:18.180    0.0  UDP   147.32.80.9:53  ->   \n",
      "37  2011-08-18  10:47:36.807    0.0  UDP   147.32.80.9:53  ->   \n",
      "39  2011-08-18  10:47:39.090    0.0  UDP   147.32.80.9:53  ->   \n",
      "43  2011-08-18  10:47:41.782    0.0  UDP   147.32.80.9:53  ->   \n",
      "46  2011-08-18  10:48:31.962    0.0  UDP   147.32.80.9:53  ->   \n",
      "\n",
      "      Dst IP Addr:Port Flags  Tos  Packets  Bytes  Flows   Label  Src_address  \\\n",
      "2   147.32.84.165:1025   INT    0        1    139      1  Botnet  147.32.80.9   \n",
      "4   147.32.84.165:1025   INT    0        1    503      1  Botnet  147.32.80.9   \n",
      "8   147.32.84.165:1025   INT    0        1    403      1  Botnet  147.32.80.9   \n",
      "12  147.32.84.191:1025   INT    0        1    139      1  Botnet  147.32.80.9   \n",
      "14  147.32.84.191:1025   INT    0        1    503      1  Botnet  147.32.80.9   \n",
      "18  147.32.84.191:1025   INT    0        1    403      1  Botnet  147.32.80.9   \n",
      "37  147.32.84.165:1025   INT    0        1    139      1  Botnet  147.32.80.9   \n",
      "39  147.32.84.165:1025   INT    0        1    503      1  Botnet  147.32.80.9   \n",
      "43  147.32.84.165:1025   INT    0        1    403      1  Botnet  147.32.80.9   \n",
      "46  147.32.84.191:1025   INT    0        1    139      1  Botnet  147.32.80.9   \n",
      "\n",
      "   Port  Prot_fac  Flags_fac  \n",
      "2    53         1          1  \n",
      "4    53         1          1  \n",
      "8    53         1          1  \n",
      "12   53         1          1  \n",
      "14   53         1          1  \n",
      "18   53         1          1  \n",
      "37   53         1          1  \n",
      "39   53         1          1  \n",
      "43   53         1          1  \n",
      "46   53         1          1  \n"
     ]
    }
   ],
   "source": [
    "print(host[:10])"
   ]
  },
  {
   "cell_type": "code",
   "execution_count": 27,
   "metadata": {},
   "outputs": [
    {
     "data": {
      "text/html": [
       "<iframe id=\"igraph\" scrolling=\"no\" style=\"border:none;\" seamless=\"seamless\" src=\"https://plot.ly/~Lizy/20.embed\" height=\"525px\" width=\"100%\"></iframe>"
      ],
      "text/plain": [
       "<plotly.tools.PlotlyDisplay object>"
      ]
     },
     "execution_count": 27,
     "metadata": {},
     "output_type": "execute_result"
    }
   ],
   "source": [
    "from sklearn.preprocessing import normalize\n",
    "\n",
    "def norm(x):\n",
    "    normalized = (x-min(x))/(max(x)-min(x))\n",
    "    return normalized\n",
    "\n",
    "package = norm(np.asarray(host['Packets']))\n",
    "byte = norm(np.asarray(host['Bytes']))\n",
    "flag = norm(np.asarray(host['Flags_fac']))\n",
    "protocol = norm(np.asarray(host['Prot_fac']))\n",
    "\n",
    "import  plotly\n",
    "import plotly.graph_objs as go\n",
    "\n",
    "plotly.tools.set_credentials_file(username='Lizy', api_key='9ZtK4mJiAnFZCCIriJun')\n",
    "\n",
    "\n",
    "trace0 = go.Box(\n",
    "    y=package,\n",
    "    name = 'Packets',\n",
    "    marker = dict(\n",
    "        color = 'rgb(135, 206, 235)',\n",
    "    )\n",
    ")\n",
    "trace1 = go.Box(\n",
    "    y=byte,\n",
    "    name = 'Bytes',\n",
    "    marker = dict(\n",
    "        color = 'rgb(100, 149, 237)',\n",
    "    )\n",
    ")\n",
    "trace3 = go.Box(\n",
    "    y=protocol,\n",
    "    name = 'Protocol factor',\n",
    "    marker = dict(\n",
    "        color = 'rgb(0, 191, 255)',\n",
    "    )\n",
    ")\n",
    "trace2 = go.Box(\n",
    "    y=flag,\n",
    "    name = 'Flags factor',\n",
    "    marker = dict(\n",
    "        color = 'rgb(30, 144, 255)',\n",
    "    )\n",
    ")\n",
    "\n",
    "data = [trace0, trace1,trace2, trace3]\n",
    "plotly.plotly.iplot(data)\n",
    "\n",
    "# fig = plt.figure()\n",
    "# ax = fig.add_subplot(111)\n",
    "# feature = [package,byte,flag,protocol]\n",
    "# ax.boxplot(feature)\n",
    "# ax.set_xlabel(['Packets','Bytes','Flags_fac','Prot_fac'])\n",
    "# ax.set_ylabel('Normolized value')"
   ]
  },
  {
   "cell_type": "code",
   "execution_count": 39,
   "metadata": {},
   "outputs": [],
   "source": [
    "# !pip install plotly"
   ]
  },
  {
   "cell_type": "code",
   "execution_count": 15,
   "metadata": {},
   "outputs": [
    {
     "name": "stdout",
     "output_type": "stream",
     "text": [
      "Protocol:\n",
      "14\n",
      "['ARP' 'ESP' 'ICMP' 'IGMP' 'IPV6' 'IPV6-ICMP' 'IPX/SPX' 'LLC' 'PIM' 'RTCP'\n",
      " 'RTP' 'TCP' 'UDP' 'UDT']\n",
      "Flags:\n",
      "95\n",
      "['AC_' 'AHA' 'A_' 'CON' 'DCE' 'DNP' 'DNQ' 'ECO' 'ECR' 'FAU_' 'FA_' 'FPAC_'\n",
      " 'FPA_' 'FRAC_' 'FRA_' 'FRPAC_' 'FRPA_' 'FSAU_' 'FSA_' 'FSPAC_' 'FSPAEC_'\n",
      " 'FSPA_' 'FSRA_' 'FSRPAC_' 'FSRPA_' 'FSR_' 'FS_' 'F_' 'IAH' 'INT' 'IRQ'\n",
      " 'IRR' 'MAS' 'MHR' 'MRP' 'MRQ' 'MSR' 'NNA' 'NNS' 'NRA' 'NRS' 'PAC_' 'PAR'\n",
      " 'PA_' 'PHO' 'PTB' 'RA_' 'RC_' 'RED' 'ROB' 'RPA_' 'RPA_FRPA' 'RTA' 'RTS'\n",
      " 'R_' 'SA_' 'SEC' 'SEC_' 'SKP' 'SPAC_' 'SPA_' 'SRA_' 'SRC' 'SRC_' 'SRPA_'\n",
      " 'SR_' 'S_' 'TRC' 'TSR' 'TST' 'TXD' 'UNK' 'UR' 'URCUT' 'URF' 'URFIL' 'URH'\n",
      " 'URHPRO' 'URHTOS' 'URHU' 'URISO' 'URN' 'URNPRO' 'URNU' 'URO' 'URP'\n",
      " 'URPRE' 'URS' 'WAY' '_FSA' '_FSPA' '_FSPAC' '_FSRA' '_FSRPA' '___']\n"
     ]
    },
    {
     "name": "stderr",
     "output_type": "stream",
     "text": [
      "/Users/lizy/anaconda3/lib/python3.6/site-packages/ipykernel_launcher.py:23: DeprecationWarning:\n",
      "\n",
      "\n",
      ".ix is deprecated. Please use\n",
      ".loc for label based indexing or\n",
      ".iloc for positional indexing\n",
      "\n",
      "See the documentation here:\n",
      "http://pandas.pydata.org/pandas-docs/stable/indexing.html#ix-indexer-is-deprecated\n",
      "\n"
     ]
    },
    {
     "name": "stdout",
     "output_type": "stream",
     "text": [
      "5180851\n",
      "   code       label\n",
      "0   0.0  Background\n",
      "1  96.0  Background\n",
      "2  96.0  Background\n",
      "3   2.0  Background\n",
      "4   3.0  Background\n"
     ]
    }
   ],
   "source": [
    "## discretize the selected two features -- Flags factor & Protocol factor\n",
    "\n",
    "print('Protocol:')\n",
    "protocol = np.unique(df['Prot'].values)\n",
    "LEN_PRO = len(protocol) \n",
    "print(LEN_PRO)\n",
    "print(protocol)\n",
    "\n",
    "print('Flags:')\n",
    "flags = np.unique(df['Flags'].values)\n",
    "LEN_FLAG = len(flags)\n",
    "print(LEN_FLAG)\n",
    "print(flags)\n",
    "\n",
    "\n",
    "def discretize(data,LEN_PRO,LEN_FLAG):\n",
    "\n",
    "    space_size = LEN_PRO*LEN_FLAG\n",
    "    length = [LEN_PRO,LEN_FLAG]\n",
    "    code = 0\n",
    "    for i in range(2):\n",
    "        fac = space_size/length[i]\n",
    "        code = code + data.ix[:,i]*fac\n",
    "        space_size = fac\n",
    "    return code\n",
    "\n",
    "code = discretize(df[['Prot_fac','Flags_fac']],LEN_PRO,LEN_FLAG)\n",
    "discre_feature = pd.DataFrame({'code':code,'label':df.ix[:,'Label']})\n",
    "print(len(discre_feature))\n",
    "print(discre_feature.head())"
   ]
  },
  {
   "cell_type": "code",
   "execution_count": 16,
   "metadata": {},
   "outputs": [
    {
     "name": "stderr",
     "output_type": "stream",
     "text": [
      "/Users/lizy/anaconda3/lib/python3.6/site-packages/ipykernel_launcher.py:1: DeprecationWarning:\n",
      "\n",
      "\n",
      ".ix is deprecated. Please use\n",
      ".loc for label based indexing or\n",
      ".iloc for positional indexing\n",
      "\n",
      "See the documentation here:\n",
      "http://pandas.pydata.org/pandas-docs/stable/indexing.html#ix-indexer-is-deprecated\n",
      "\n"
     ]
    },
    {
     "name": "stdout",
     "output_type": "stream",
     "text": [
      "321917 4535493 323441\n"
     ]
    }
   ],
   "source": [
    "legitimate = discre_feature.ix[discre_feature['label'] == 'LEGITIMATE',:]\n",
    "background = discre_feature.ix[discre_feature['label'] == 'Background',:]\n",
    "infected = discre_feature.ix[discre_feature['label'] == 'Botnet',:]\n",
    "print(str(len(legitimate)),str(len(background)),str(len(infected)))"
   ]
  },
  {
   "cell_type": "code",
   "execution_count": 64,
   "metadata": {},
   "outputs": [
    {
     "name": "stderr",
     "output_type": "stream",
     "text": [
      "/Users/lizy/anaconda3/lib/python3.6/site-packages/numpy/core/fromnumeric.py:52: FutureWarning:\n",
      "\n",
      "reshape is deprecated and will raise in a subsequent release. Please use .values.reshape(...) instead\n",
      "\n"
     ]
    },
    {
     "data": {
      "image/png": "[encoded data removed]",
      "text/plain": [
       "<matplotlib.figure.Figure at 0x232817630>"
      ]
     },
     "metadata": {},
     "output_type": "display_data"
    }
   ],
   "source": [
    "data = [legitimate['code'],infected['code']]\n",
    "# multiple box plots on one figure\n",
    "plt.figure()\n",
    "plt.boxplot(data)\n",
    "plt.savefig(\"screenshot/q3_comp.png\")\n",
    "plt.show()\n"
   ]
  },
  {
   "cell_type": "code",
   "execution_count": 26,
   "metadata": {},
   "outputs": [
    {
     "name": "stderr",
     "output_type": "stream",
     "text": [
      "/Users/lizy/anaconda3/lib/python3.6/site-packages/plotly/plotly/plotly.py:224: UserWarning:\n",
      "\n",
      "Woah there! Look at all those points! Due to browser limitations, the Plotly SVG drawing functions have a hard time graphing more than 500k data points for line charts, or 40k points for other types of charts. Here are some suggestions:\n",
      "(1) Use the `plotly.graph_objs.Scattergl` trace object to generate a WebGl graph.\n",
      "(2) Trying using the image API to return an image instead of a graph URL\n",
      "(3) Use matplotlib\n",
      "(4) See if you can create your visualization with fewer data points\n",
      "\n",
      "If the visualization you're using aggregates points (e.g., box plot, histogram, etc.) you can disregard this warning.\n",
      "\n"
     ]
    },
    {
     "data": {
      "text/html": [
       "<iframe id=\"igraph\" scrolling=\"no\" style=\"border:none;\" seamless=\"seamless\" src=\"https://plot.ly/~Lizy/18.embed\" height=\"525px\" width=\"100%\"></iframe>"
      ],
      "text/plain": [
       "<plotly.tools.PlotlyDisplay object>"
      ]
     },
     "execution_count": 26,
     "metadata": {},
     "output_type": "execute_result"
    }
   ],
   "source": [
    "import  plotly\n",
    "import plotly.graph_objs as go\n",
    "\n",
    "plotly.tools.set_credentials_file(username='Lizy', api_key='9ZtK4mJiAnFZCCIriJun')\n",
    "\n",
    "\n",
    "trace0 = go.Box(\n",
    "    y=legitimate['code'],\n",
    "    name = 'Legitimate host',\n",
    "    marker = dict(\n",
    "        color = 'rgb(135, 206, 235)',\n",
    "    )\n",
    ")\n",
    "trace1 = go.Box(\n",
    "    y=infected['code'],\n",
    "    name = 'Infected host',\n",
    "    marker = dict(\n",
    "        color = 'rgb(100, 149, 237)',\n",
    "    )\n",
    ")\n",
    "\n",
    "\n",
    "data = [trace0, trace1]\n",
    "plotly.plotly.iplot(data)\n"
   ]
  },
  {
   "cell_type": "code",
   "execution_count": 25,
   "metadata": {
    "scrolled": true
   },
   "outputs": [
    {
     "name": "stderr",
     "output_type": "stream",
     "text": [
      "/Users/lizy/anaconda3/lib/python3.6/site-packages/plotly/plotly/plotly.py:224: UserWarning:\n",
      "\n",
      "Woah there! Look at all those points! Due to browser limitations, the Plotly SVG drawing functions have a hard time graphing more than 500k data points for line charts, or 40k points for other types of charts. Here are some suggestions:\n",
      "(1) Use the `plotly.graph_objs.Scattergl` trace object to generate a WebGl graph.\n",
      "(2) Trying using the image API to return an image instead of a graph URL\n",
      "(3) Use matplotlib\n",
      "(4) See if you can create your visualization with fewer data points\n",
      "\n",
      "If the visualization you're using aggregates points (e.g., box plot, histogram, etc.) you can disregard this warning.\n",
      "\n"
     ]
    },
    {
     "name": "stdout",
     "output_type": "stream",
     "text": [
      "The draw time for this plot will be slow for all clients.\n"
     ]
    },
    {
     "name": "stderr",
     "output_type": "stream",
     "text": [
      "/Users/lizy/anaconda3/lib/python3.6/site-packages/plotly/api/v1/clientresp.py:40: UserWarning:\n",
      "\n",
      "Estimated Draw Time Too Long\n",
      "\n"
     ]
    },
    {
     "data": {
      "text/html": [
       "<iframe id=\"igraph\" scrolling=\"no\" style=\"border:none;\" seamless=\"seamless\" src=\"https://plot.ly/~Lizy/16.embed\" height=\"525px\" width=\"100%\"></iframe>"
      ],
      "text/plain": [
       "<plotly.tools.PlotlyDisplay object>"
      ]
     },
     "execution_count": 25,
     "metadata": {},
     "output_type": "execute_result"
    }
   ],
   "source": [
    "import plotly.figure_factory as ff\n",
    "import plotly.plotly as py\n",
    "\n",
    "hist_data = [legitimate['code'], infected['code']]\n",
    "\n",
    "group_labels = ['Legitimate host', 'Infected host']\n",
    "\n",
    "# Create distplot with custom bin_size\n",
    "fig = ff.create_distplot(hist_data, group_labels, bin_size=.2)\n",
    "\n",
    "# Plot!\n",
    "py.iplot(fig, filename='Distplot with Legitimate and Infected hosts')"
   ]
  },
  {
   "cell_type": "code",
   "execution_count": null,
   "metadata": {},
   "outputs": [],
   "source": []
  }
 ],
 "metadata": {
  "kernelspec": {
   "display_name": "Python 3",
   "language": "python",
   "name": "python3"
  },
  "language_info": {
   "codemirror_mode": {
    "name": "ipython",
    "version": 3
   },
   "file_extension": ".py",
   "mimetype": "text/x-python",
   "name": "python",
   "nbconvert_exporter": "python",
   "pygments_lexer": "ipython3",
   "version": "3.6.4"
  }
 },
 "nbformat": 4,
 "nbformat_minor": 2
}
