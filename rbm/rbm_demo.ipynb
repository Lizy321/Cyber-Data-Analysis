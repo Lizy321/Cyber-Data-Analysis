{
 "cells": [
  {
   "cell_type": "code",
   "execution_count": 1,
   "metadata": {},
   "outputs": [],
   "source": [
    "import pandas as pd\n",
    "import numpy as np\n",
    "import tensorflow as tf\n",
    "import os\n",
    "from datetime import datetime \n",
    "from sklearn.metrics import roc_auc_score as auc "
   ]
  },
  {
   "cell_type": "code",
   "execution_count": 2,
   "metadata": {},
   "outputs": [],
   "source": [
    "import matplotlib.pyplot as plt\n",
    "import matplotlib.gridspec as gridspec\n",
    "%matplotlib inline"
   ]
  },
  {
   "cell_type": "code",
   "execution_count": 22,
   "metadata": {},
   "outputs": [
    {
     "name": "stdout",
     "output_type": "stream",
     "text": [
      "   55  12  554629.0    8271.48   69  1  1.1  0  1443650865.0  3  154469  \\\n",
      "0  55  12  548234.0   1262.394  112  1    1  0  1.443651e+09  3  273959   \n",
      "1  55  12  547046.0   7302.260   69  1    1  0  1.443651e+09  3  260168   \n",
      "2  55   5  477291.0  10311.400  112  1    1  0  1.443651e+09  3  137032   \n",
      "3  55  12  557910.0   8372.100   69  1    1  0  1.443651e+09  3  106983   \n",
      "4  55  12  549949.0   5108.400   69  1    1  0  1.443651e+09  3  252274   \n",
      "\n",
      "   111262  219189  0.1  \n",
      "0   39640  258889    0  \n",
      "1   64811  180723    0  \n",
      "2  163136   13838    0  \n",
      "3  114270   68484    0  \n",
      "4   61392  215813    0  \n",
      "236698\n"
     ]
    }
   ],
   "source": [
    "df = pd.read_csv('transformed_data.csv')\n",
    "print df.head()\n",
    "#names=\n",
    "raw = pd.read_csv('uniform_currency_data.csv')\n",
    "print len(raw)"
   ]
  },
  {
   "cell_type": "code",
   "execution_count": null,
   "metadata": {},
   "outputs": [],
   "source": []
  },
  {
   "cell_type": "markdown",
   "metadata": {},
   "source": [
    "## Split data by 50-50"
   ]
  },
  {
   "cell_type": "code",
   "execution_count": 23,
   "metadata": {},
   "outputs": [
    {
     "name": "stdout",
     "output_type": "stream",
     "text": [
      "[1.80000000e+01 1.00000000e+01 4.92181000e+05 5.53135000e+03\n",
      " 2.60000000e+01 1.00000000e+00 1.00000000e+00 1.00000000e+00\n",
      " 1.43570164e+09 0.00000000e+00]\n"
     ]
    }
   ],
   "source": [
    "TEST_RATIO = 0.2\n",
    "df.sort_values('1443650865.0', inplace = True)\n",
    "TRA_INDEX = int((1-TEST_RATIO) * df.shape[0])\n",
    "train_x = df.iloc[:TRA_INDEX, 0:-4].values\n",
    "train_y = df.iloc[:TRA_INDEX, -1].values\n",
    "\n",
    "test_x = df.iloc[TRA_INDEX:, 0:-4].values\n",
    "test_y = df.iloc[TRA_INDEX:, -1].values\n",
    "print train_x[1,:]"
   ]
  },
  {
   "cell_type": "code",
   "execution_count": 24,
   "metadata": {},
   "outputs": [],
   "source": [
    "from imblearn.over_sampling import SMOTE\n",
    "\n",
    "def sm_sample(x_train,y_train):\n",
    "    sm = SMOTE()\n",
    "    # x_array = np.array(x)\n",
    "    # y_array = np.array(y)\n",
    "    usx = x_train.astype('float64')\n",
    "    usy = y_train.astype('float64')\n",
    "\n",
    "    X_res, y_res = sm.fit_sample(usx, usy)\n",
    "    #print(format(Counter(y_train)))\n",
    "    #print('Resampled dataset shape {}'.format(Counter(y_res)))\n",
    "    return X_res, y_res\n",
    "    #rf_train(X_res,y_res,x_test,y_test)"
   ]
  },
  {
   "cell_type": "code",
   "execution_count": null,
   "metadata": {},
   "outputs": [],
   "source": [
    "#train_x, train_y = sm_sample(train_x,train_y)"
   ]
  },
  {
   "cell_type": "markdown",
   "metadata": {},
   "source": [
    "## Pre-processing - z scores"
   ]
  },
  {
   "cell_type": "code",
   "execution_count": 25,
   "metadata": {},
   "outputs": [
    {
     "name": "stdout",
     "output_type": "stream",
     "text": [
      "[ 0.47551138  0.47551138  0.47551138 ...  0.47551138 -2.03882593\n",
      "  0.47551138]\n"
     ]
    }
   ],
   "source": [
    "cols_mean = []\n",
    "cols_std = []\n",
    "for c in range(train_x.shape[1]):\n",
    "    #\n",
    "    cols_mean.append(train_x[:,c].mean())\n",
    "    cols_std.append(train_x[:,c].std())\n",
    "    train_x[:, c] = (train_x[:, c] - cols_mean[-1]) / cols_std[-1]\n",
    "    if c==7:\n",
    "        print train_x[:,c]\n",
    "    \n",
    "    test_x[:, c] =  (test_x[:, c] - cols_mean[-1]) / cols_std[-1]"
   ]
  },
  {
   "cell_type": "markdown",
   "metadata": {},
   "source": [
    "## import RBM"
   ]
  },
  {
   "cell_type": "code",
   "execution_count": 26,
   "metadata": {},
   "outputs": [],
   "source": [
    "from rbm import RBM"
   ]
  },
  {
   "cell_type": "code",
   "execution_count": 27,
   "metadata": {},
   "outputs": [
    {
     "data": {
      "text/plain": [
       "189356"
      ]
     },
     "execution_count": 27,
     "metadata": {},
     "output_type": "execute_result"
    }
   ],
   "source": [
    "len(train_x)"
   ]
  },
  {
   "cell_type": "markdown",
   "metadata": {},
   "source": [
    "## Initialize model object with momentum"
   ]
  },
  {
   "cell_type": "code",
   "execution_count": 28,
   "metadata": {},
   "outputs": [],
   "source": [
    "model = RBM(train_x.shape[1], 10, visible_unit_type='gauss', main_dir='/home/ava/Dropbox/CyberData/ass1/rbm/model', model_name='rbm_model.ckpt',\n",
    "                 gibbs_sampling_steps=4, learning_rate=0.001, momentum = 0.95, batch_size=500, num_epochs=10, verbose=1)\n"
   ]
  },
  {
   "cell_type": "markdown",
   "metadata": {},
   "source": [
    "## Train it and plot training reconstruction loss v.s. iteractions"
   ]
  },
  {
   "cell_type": "code",
   "execution_count": 29,
   "metadata": {
    "scrolled": true
   },
   "outputs": [
    {
     "name": "stdout",
     "output_type": "stream",
     "text": [
      "Validation cost at step 0: 1.072619\n",
      "Validation cost at step 1: 0.9677266\n",
      "Validation cost at step 2: 0.70099676\n",
      "Validation cost at step 3: 0.6648756\n",
      "Validation cost at step 4: 0.6851689\n",
      "Validation cost at step 5: 0.66244256\n",
      "Validation cost at step 6: 0.6398106\n",
      "Validation cost at step 7: 0.65740716\n",
      "Validation cost at step 8: 0.63242644\n",
      "Validation cost at step 9: 0.65836084\n"
     ]
    },
    {
     "data": {
      "image/png": "[encoded data removed]",
      "text/plain": [
       "<matplotlib.figure.Figure at 0x7f35b0080c10>"
      ]
     },
     "metadata": {},
     "output_type": "display_data"
    }
   ],
   "source": [
    "model.fit(train_x, validation_set=test_x)\n"
   ]
  },
  {
   "cell_type": "markdown",
   "metadata": {},
   "source": [
    "## Make predictions on val - Free Energy"
   ]
  },
  {
   "cell_type": "code",
   "execution_count": 30,
   "metadata": {},
   "outputs": [
    {
     "name": "stdout",
     "output_type": "stream",
     "text": [
      "[-6.9757543 -7.177141  -6.514738  ... -6.7884216 -5.3044634 -6.7870007] 47340 47340\n"
     ]
    }
   ],
   "source": [
    "test_cost = model.getFreeEnergy(test_x).reshape(-1)\n",
    "print test_cost, len(test_cost),len(test_y)"
   ]
  },
  {
   "cell_type": "markdown",
   "metadata": {},
   "source": [
    "## AUC-ROC curve on val"
   ]
  },
  {
   "cell_type": "code",
   "execution_count": 31,
   "metadata": {
    "scrolled": true
   },
   "outputs": [
    {
     "ename": "ValueError",
     "evalue": "Reordering is not turned on, and the x array is not increasing: [0 0 0 ... 0 0 0]",
     "output_type": "error",
     "traceback": [
      "\u001b[0;31m---------------------------------------------------------------------------\u001b[0m",
      "\u001b[0;31mValueError\u001b[0m                                Traceback (most recent call last)",
      "\u001b[0;32m<ipython-input-31-2d806705774f>\u001b[0m in \u001b[0;36m<module>\u001b[0;34m()\u001b[0m\n\u001b[0;32m----> 1\u001b[0;31m \u001b[0mauc\u001b[0m\u001b[0;34m(\u001b[0m\u001b[0mtest_y\u001b[0m\u001b[0;34m,\u001b[0m \u001b[0mtest_cost\u001b[0m\u001b[0;34m)\u001b[0m\u001b[0;34m\u001b[0m\u001b[0m\n\u001b[0m",
      "\u001b[0;32m/usr/local/lib/python2.7/dist-packages/sklearn/metrics/ranking.pyc\u001b[0m in \u001b[0;36mauc\u001b[0;34m(x, y, reorder)\u001b[0m\n\u001b[1;32m     99\u001b[0m             \u001b[0;32melse\u001b[0m\u001b[0;34m:\u001b[0m\u001b[0;34m\u001b[0m\u001b[0m\n\u001b[1;32m    100\u001b[0m                 raise ValueError(\"Reordering is not turned on, and \"\n\u001b[0;32m--> 101\u001b[0;31m                                  \"the x array is not increasing: %s\" % x)\n\u001b[0m\u001b[1;32m    102\u001b[0m \u001b[0;34m\u001b[0m\u001b[0m\n\u001b[1;32m    103\u001b[0m     \u001b[0marea\u001b[0m \u001b[0;34m=\u001b[0m \u001b[0mdirection\u001b[0m \u001b[0;34m*\u001b[0m \u001b[0mnp\u001b[0m\u001b[0;34m.\u001b[0m\u001b[0mtrapz\u001b[0m\u001b[0;34m(\u001b[0m\u001b[0my\u001b[0m\u001b[0;34m,\u001b[0m \u001b[0mx\u001b[0m\u001b[0;34m)\u001b[0m\u001b[0;34m\u001b[0m\u001b[0m\n",
      "\u001b[0;31mValueError\u001b[0m: Reordering is not turned on, and the x array is not increasing: [0 0 0 ... 0 0 0]"
     ]
    }
   ],
   "source": [
    "auc(test_y, test_cost)"
   ]
  },
  {
   "cell_type": "code",
   "execution_count": 32,
   "metadata": {},
   "outputs": [
    {
     "data": {
      "image/png": "[encoded data removed]",
      "text/plain": [
       "<matplotlib.figure.Figure at 0x7f35b503c490>"
      ]
     },
     "metadata": {},
     "output_type": "display_data"
    }
   ],
   "source": [
    "from sklearn.metrics import roc_curve, auc\n",
    "fpr, tpr, _ = roc_curve(test_y, test_cost)\n",
    "\n",
    "fpr_micro, tpr_micro, _ = roc_curve(test_y, test_cost)\n",
    "roc_auc = auc(fpr_micro, tpr_micro)\n",
    "\n",
    "plt.plot(fpr, tpr, color='darkorange',\n",
    "         lw=2, label='ROC curve (area = %0.2f)' % roc_auc)\n",
    "plt.plot([0, 1], [0, 1], color='navy', lw=2, linestyle='--')\n",
    "plt.xlim([0.0, 1.0])\n",
    "plt.ylim([0.0, 1.05])\n",
    "plt.xlabel('False Positive Rate')\n",
    "plt.ylabel('True Positive Rate')\n",
    "plt.title('ROC curve on val data set')\n",
    "plt.legend(loc=\"lower right\")\n",
    "plt.show()"
   ]
  },
  {
   "cell_type": "code",
   "execution_count": null,
   "metadata": {},
   "outputs": [],
   "source": [
    "from sklearn.metrics import roc_curve, auc\n",
    "def rbm_train(train_x,test_x,test_y,):\n",
    "    model.fit(train_x, validation_set=test_x)\n",
    "    test_cost = model.getFreeEnergy(test_x).reshape(-1)\n",
    "    print auc(test_y, test_cost)\n",
    "    fpr, tpr, _ = roc_curve(test_y, test_cost)\n",
    "\n",
    "    fpr_micro, tpr_micro, _ = roc_curve(test_y, test_cost)\n",
    "    roc_auc = auc(fpr_micro, tpr_micro)\n",
    "\n",
    "    plt.plot(fpr, tpr, color='darkorange',\n",
    "         lw=2, label='ROC curve (area = %0.2f)' % roc_auc)\n",
    "    plt.plot([0, 1], [0, 1], color='navy', lw=2, linestyle='--')\n",
    "    plt.xlim([0.0, 1.0])\n",
    "    plt.ylim([0.0, 1.05])\n",
    "    plt.xlabel('False Positive Rate')\n",
    "    plt.ylabel('True Positive Rate')\n",
    "    plt.title('ROC curve on val data set')\n",
    "    plt.legend(loc=\"lower right\")\n",
    "    plt.show()"
   ]
  },
  {
   "cell_type": "markdown",
   "metadata": {},
   "source": [
    "## Distribution for FE on val set - fraud and non-fraud"
   ]
  },
  {
   "cell_type": "code",
   "execution_count": null,
   "metadata": {},
   "outputs": [],
   "source": [
    "from imblearn.over_sampling import SMOTE\n",
    "\n",
    "def sm_sample(x_train,y_train,x_test,y_test):\n",
    "    sm = SMOTE()\n",
    "    # x_array = np.array(x)\n",
    "    # y_array = np.array(y)\n",
    "    usx = x_train.astype('float64')\n",
    "    usy = y_train.astype('float64')\n",
    "\n",
    "    X_res, y_res = sm.fit_sample(usx, usy)\n",
    "    #print(format(Counter(y_train)))\n",
    "    #print('Resampled dataset shape {}'.format(Counter(y_res)))\n",
    "\n",
    "    #rf_train(X_res,y_res,x_test,y_test)\n",
    "    \n"
   ]
  },
  {
   "cell_type": "code",
   "execution_count": null,
   "metadata": {},
   "outputs": [],
   "source": [
    "sm_sample(train_x,train_y,test_x,test_y)"
   ]
  },
  {
   "cell_type": "code",
   "execution_count": null,
   "metadata": {},
   "outputs": [],
   "source": [
    "#plt.hist(test_cost[np.where(test_y == 1)], bins = 100)\n",
    "plt.title('Free energy distribution of val set')\n",
    "plt.xlabel('Free energy')\n",
    "plt.ylabel('Probabilties')\n",
    "plt.hist(test_cost[(test_y == 0) & (test_cost < 500)], bins = 100, color='green', normed=1.0, label='Non-Fraud')\n",
    "plt.hist(test_cost[(test_y == 1) & (test_cost < 500)], bins = 100, color='red', normed=1.0, label = 'Fraud')\n",
    "\n",
    "plt.legend(loc=\"upper right\")\n",
    "plt.show()"
   ]
  },
  {
   "cell_type": "code",
   "execution_count": null,
   "metadata": {},
   "outputs": [],
   "source": [
    "#plt.hist(test_cost[np.where(test_y == 1)], bins = 100)\n",
    "plt.hist(test_cost[(test_y == 0) & (test_cost < 500)], bins = 100, color='green', normed=1)\n",
    "plt.title('Free energy distribution of non-fraud cases')\n",
    "plt.xlabel('Free energy')\n",
    "plt.ylabel('Probabilities')\n",
    "plt.show()"
   ]
  },
  {
   "cell_type": "code",
   "execution_count": null,
   "metadata": {},
   "outputs": [],
   "source": [
    "#plt.hist(test_cost[np.where(test_y == 1)], bins = 100)\n",
    "plt.hist(test_cost[(test_y == 1) & (test_cost < 500)], bins = 100, color='red', normed=1)\n",
    "plt.title('Free energy distribution of fraud cases')\n",
    "plt.xlabel('Free energy')\n",
    "plt.ylabel('Probabilities')\n",
    "plt.show()"
   ]
  },
  {
   "cell_type": "markdown",
   "metadata": {},
   "source": [
    "## Finding a threshold for real time fraud detector"
   ]
  },
  {
   "cell_type": "markdown",
   "metadata": {},
   "source": [
    "### Precision Recall Curve in general"
   ]
  },
  {
   "cell_type": "code",
   "execution_count": null,
   "metadata": {},
   "outputs": [],
   "source": [
    "from sklearn.metrics import precision_recall_curve\n",
    "\n",
    "def plot_precision_recall(lines):\n",
    "    \n",
    "\n",
    "    for precision, recall, label in lines:\n",
    "        plt.plot(recall, precision, label=label)\n",
    "    plt.xlabel('Recall')\n",
    "    plt.ylabel('Precision')\n",
    "    plt.ylim([0.0, 1.05])\n",
    "    plt.xlim([0.0, 1.0])\n",
    "    plt.title('Precision-Recall')\n",
    "    plt.legend(loc=\"upper right\")\n",
    "    plt.show()\n",
    "    \n",
    "lines = []\n",
    "precision, recall, threshold = precision_recall_curve(test_y, test_cost)\n",
    "\n",
    "lines.append( (precision, recall, 'Precision Recall Curve') )\n",
    "plot_precision_recall(lines)"
   ]
  },
  {
   "cell_type": "markdown",
   "metadata": {},
   "source": [
    "### Finding a threshold of Free Energy on range(0, 200) that best balances Precision and Recall"
   ]
  },
  {
   "cell_type": "code",
   "execution_count": null,
   "metadata": {},
   "outputs": [],
   "source": [
    "precisions = []\n",
    "recalls = []\n",
    "all_pos = sum(test_y)\n",
    "for threshold in range(1, 200):\n",
    "    all_predicted = sum(test_cost > threshold)\n",
    "    TP = sum((test_cost > threshold) & (test_y == 1))\n",
    "    \n",
    "    precisions.append(TP  / all_predicted)\n",
    "    recalls.append(TP / all_pos)\n",
    "\n",
    "plt.plot( recalls, label = 'recall')\n",
    "plt.axvline(100, color = 'red')\n",
    "\n",
    "plt.title(\"Recall curve\")\n",
    "plt.xlabel(\"FE\")\n",
    "plt.ylabel(\"Recall\")\n",
    "plt.legend()\n",
    "plt.show()"
   ]
  },
  {
   "cell_type": "code",
   "execution_count": null,
   "metadata": {},
   "outputs": [],
   "source": [
    "plt.plot( precisions, label = 'precision')\n",
    "plt.axvline(100, color = 'red')\n",
    "\n",
    "plt.title(\"Precision curve\")\n",
    "plt.xlabel(\"FE\")\n",
    "plt.ylabel(\"Precision\")\n",
    "plt.legend()\n",
    "plt.show()"
   ]
  },
  {
   "cell_type": "markdown",
   "metadata": {
    "collapsed": true
   },
   "source": [
    "## Take a look at the top 500 transactions for example ...."
   ]
  },
  {
   "cell_type": "code",
   "execution_count": null,
   "metadata": {},
   "outputs": [],
   "source": [
    "value_500 = sorted(test_cost)[-500]\n",
    "population_mean = np.mean(test_y)\n",
    "model_mean_500 = np.mean(test_y[test_cost > value_500])\n",
    "print(\"Perc of fraud in val data is: %0.2f%%; perc of fraud in top 500 by model is: %0.2f%%\" % (population_mean*100, model_mean_500*100))"
   ]
  }
 ],
 "metadata": {
  "kernelspec": {
   "display_name": "tensorflow",
   "language": "python",
   "name": "tensorflow"
  },
  "language_info": {
   "codemirror_mode": {
    "name": "ipython",
    "version": 2
   },
   "file_extension": ".py",
   "mimetype": "text/x-python",
   "name": "python",
   "nbconvert_exporter": "python",
   "pygments_lexer": "ipython2",
   "version": "2.7.12"
  }
 },
 "nbformat": 4,
 "nbformat_minor": 2
}
