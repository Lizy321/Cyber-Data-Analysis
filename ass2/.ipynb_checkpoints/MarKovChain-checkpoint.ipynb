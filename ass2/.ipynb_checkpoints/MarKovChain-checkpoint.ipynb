{
 "cells": [
  {
   "cell_type": "code",
   "execution_count": 6,
   "metadata": {},
   "outputs": [],
   "source": [
    "from pandas import read_csv\n",
    "import pandas as pd\n",
    "import matplotlib.pyplot as plt\n",
    "import numpy as np\n",
    "import datetime\n",
    "\n",
    "def parser(x):\n",
    "    return pd.datetime.strptime('2015'+x, '%Y%d/%m/%H %M')\n",
    "\n",
    "data = read_csv('./BATADAL_dataset03.csv', header=0, parse_dates=[0], index_col=0, squeeze=True,\\\n",
    "                  date_parser=parser)\n",
    "\n",
    "series = data.copy()"
   ]
  },
  {
   "cell_type": "code",
   "execution_count": 7,
   "metadata": {},
   "outputs": [],
   "source": [
    "import custom_function as cf"
   ]
  },
  {
   "cell_type": "code",
   "execution_count": 8,
   "metadata": {},
   "outputs": [
    {
     "data": {
      "text/html": [
       "<div>\n",
       "<style scoped>\n",
       "    .dataframe tbody tr th:only-of-type {\n",
       "        vertical-align: middle;\n",
       "    }\n",
       "\n",
       "    .dataframe tbody tr th {\n",
       "        vertical-align: top;\n",
       "    }\n",
       "\n",
       "    .dataframe thead th {\n",
       "        text-align: right;\n",
       "    }\n",
       "</style>\n",
       "<table border=\"1\" class=\"dataframe\">\n",
       "  <thead>\n",
       "    <tr style=\"text-align: right;\">\n",
       "      <th></th>\n",
       "      <th>L_T1</th>\n",
       "      <th>L_T2</th>\n",
       "      <th>L_T3</th>\n",
       "      <th>L_T4</th>\n",
       "      <th>L_T5</th>\n",
       "      <th>L_T6</th>\n",
       "      <th>L_T7</th>\n",
       "      <th>F_PU1</th>\n",
       "      <th>S_PU1</th>\n",
       "      <th>F_PU2</th>\n",
       "      <th>...</th>\n",
       "      <th>P_J256</th>\n",
       "      <th>P_J289</th>\n",
       "      <th>P_J415</th>\n",
       "      <th>P_J302</th>\n",
       "      <th>P_J306</th>\n",
       "      <th>P_J307</th>\n",
       "      <th>P_J317</th>\n",
       "      <th>P_J14</th>\n",
       "      <th>P_J422</th>\n",
       "      <th>ATT_FLAG</th>\n",
       "    </tr>\n",
       "    <tr>\n",
       "      <th>DATETIME</th>\n",
       "      <th></th>\n",
       "      <th></th>\n",
       "      <th></th>\n",
       "      <th></th>\n",
       "      <th></th>\n",
       "      <th></th>\n",
       "      <th></th>\n",
       "      <th></th>\n",
       "      <th></th>\n",
       "      <th></th>\n",
       "      <th></th>\n",
       "      <th></th>\n",
       "      <th></th>\n",
       "      <th></th>\n",
       "      <th></th>\n",
       "      <th></th>\n",
       "      <th></th>\n",
       "      <th></th>\n",
       "      <th></th>\n",
       "      <th></th>\n",
       "      <th></th>\n",
       "    </tr>\n",
       "  </thead>\n",
       "  <tbody>\n",
       "    <tr>\n",
       "      <th>2015-01-06 14:00:00</th>\n",
       "      <td>0.509730</td>\n",
       "      <td>2.049003</td>\n",
       "      <td>3.191145</td>\n",
       "      <td>2.792634</td>\n",
       "      <td>2.656091</td>\n",
       "      <td>5.316831</td>\n",
       "      <td>1.562321</td>\n",
       "      <td>98.998444</td>\n",
       "      <td>1</td>\n",
       "      <td>99.018150</td>\n",
       "      <td>...</td>\n",
       "      <td>87.605774</td>\n",
       "      <td>26.495605</td>\n",
       "      <td>84.206619</td>\n",
       "      <td>18.901676</td>\n",
       "      <td>81.983734</td>\n",
       "      <td>18.791777</td>\n",
       "      <td>67.125603</td>\n",
       "      <td>29.387470</td>\n",
       "      <td>28.487471</td>\n",
       "      <td>0</td>\n",
       "    </tr>\n",
       "    <tr>\n",
       "      <th>2015-01-06 14:01:00</th>\n",
       "      <td>0.412580</td>\n",
       "      <td>2.009072</td>\n",
       "      <td>3.642565</td>\n",
       "      <td>2.831673</td>\n",
       "      <td>3.126387</td>\n",
       "      <td>5.494855</td>\n",
       "      <td>1.852043</td>\n",
       "      <td>99.095901</td>\n",
       "      <td>1</td>\n",
       "      <td>99.115639</td>\n",
       "      <td>...</td>\n",
       "      <td>89.448341</td>\n",
       "      <td>26.487326</td>\n",
       "      <td>85.900085</td>\n",
       "      <td>18.849329</td>\n",
       "      <td>82.150589</td>\n",
       "      <td>18.739643</td>\n",
       "      <td>67.178696</td>\n",
       "      <td>29.354256</td>\n",
       "      <td>28.454256</td>\n",
       "      <td>0</td>\n",
       "    </tr>\n",
       "    <tr>\n",
       "      <th>2015-01-06 14:02:00</th>\n",
       "      <td>0.320112</td>\n",
       "      <td>1.986093</td>\n",
       "      <td>4.140192</td>\n",
       "      <td>3.256733</td>\n",
       "      <td>3.574601</td>\n",
       "      <td>5.500000</td>\n",
       "      <td>2.246126</td>\n",
       "      <td>98.420959</td>\n",
       "      <td>1</td>\n",
       "      <td>98.440498</td>\n",
       "      <td>...</td>\n",
       "      <td>91.056114</td>\n",
       "      <td>26.487364</td>\n",
       "      <td>86.582474</td>\n",
       "      <td>19.597170</td>\n",
       "      <td>83.988579</td>\n",
       "      <td>19.496712</td>\n",
       "      <td>72.425293</td>\n",
       "      <td>29.354538</td>\n",
       "      <td>28.454538</td>\n",
       "      <td>0</td>\n",
       "    </tr>\n",
       "    <tr>\n",
       "      <th>2015-01-06 14:03:00</th>\n",
       "      <td>0.332879</td>\n",
       "      <td>2.009203</td>\n",
       "      <td>4.673478</td>\n",
       "      <td>3.744497</td>\n",
       "      <td>3.952379</td>\n",
       "      <td>5.500000</td>\n",
       "      <td>3.203573</td>\n",
       "      <td>97.575172</td>\n",
       "      <td>1</td>\n",
       "      <td>97.594460</td>\n",
       "      <td>...</td>\n",
       "      <td>92.594353</td>\n",
       "      <td>26.575815</td>\n",
       "      <td>88.020546</td>\n",
       "      <td>26.028486</td>\n",
       "      <td>64.670486</td>\n",
       "      <td>25.922703</td>\n",
       "      <td>76.275040</td>\n",
       "      <td>29.449951</td>\n",
       "      <td>28.549952</td>\n",
       "      <td>0</td>\n",
       "    </tr>\n",
       "    <tr>\n",
       "      <th>2015-01-06 14:04:00</th>\n",
       "      <td>0.483496</td>\n",
       "      <td>2.089049</td>\n",
       "      <td>5.237937</td>\n",
       "      <td>4.409456</td>\n",
       "      <td>3.504676</td>\n",
       "      <td>5.500000</td>\n",
       "      <td>4.439714</td>\n",
       "      <td>97.351059</td>\n",
       "      <td>1</td>\n",
       "      <td>97.370277</td>\n",
       "      <td>...</td>\n",
       "      <td>94.473099</td>\n",
       "      <td>26.723457</td>\n",
       "      <td>90.422462</td>\n",
       "      <td>26.209970</td>\n",
       "      <td>64.746620</td>\n",
       "      <td>26.104692</td>\n",
       "      <td>76.703529</td>\n",
       "      <td>29.574265</td>\n",
       "      <td>28.674263</td>\n",
       "      <td>0</td>\n",
       "    </tr>\n",
       "  </tbody>\n",
       "</table>\n",
       "<p>5 rows × 44 columns</p>\n",
       "</div>"
      ],
      "text/plain": [
       "                         L_T1      L_T2      L_T3      L_T4      L_T5  \\\n",
       "DATETIME                                                                \n",
       "2015-01-06 14:00:00  0.509730  2.049003  3.191145  2.792634  2.656091   \n",
       "2015-01-06 14:01:00  0.412580  2.009072  3.642565  2.831673  3.126387   \n",
       "2015-01-06 14:02:00  0.320112  1.986093  4.140192  3.256733  3.574601   \n",
       "2015-01-06 14:03:00  0.332879  2.009203  4.673478  3.744497  3.952379   \n",
       "2015-01-06 14:04:00  0.483496  2.089049  5.237937  4.409456  3.504676   \n",
       "\n",
       "                         L_T6      L_T7      F_PU1  S_PU1      F_PU2  \\\n",
       "DATETIME                                                               \n",
       "2015-01-06 14:00:00  5.316831  1.562321  98.998444      1  99.018150   \n",
       "2015-01-06 14:01:00  5.494855  1.852043  99.095901      1  99.115639   \n",
       "2015-01-06 14:02:00  5.500000  2.246126  98.420959      1  98.440498   \n",
       "2015-01-06 14:03:00  5.500000  3.203573  97.575172      1  97.594460   \n",
       "2015-01-06 14:04:00  5.500000  4.439714  97.351059      1  97.370277   \n",
       "\n",
       "                       ...        P_J256     P_J289     P_J415     P_J302  \\\n",
       "DATETIME               ...                                                  \n",
       "2015-01-06 14:00:00    ...     87.605774  26.495605  84.206619  18.901676   \n",
       "2015-01-06 14:01:00    ...     89.448341  26.487326  85.900085  18.849329   \n",
       "2015-01-06 14:02:00    ...     91.056114  26.487364  86.582474  19.597170   \n",
       "2015-01-06 14:03:00    ...     92.594353  26.575815  88.020546  26.028486   \n",
       "2015-01-06 14:04:00    ...     94.473099  26.723457  90.422462  26.209970   \n",
       "\n",
       "                        P_J306     P_J307     P_J317      P_J14     P_J422  \\\n",
       "DATETIME                                                                     \n",
       "2015-01-06 14:00:00  81.983734  18.791777  67.125603  29.387470  28.487471   \n",
       "2015-01-06 14:01:00  82.150589  18.739643  67.178696  29.354256  28.454256   \n",
       "2015-01-06 14:02:00  83.988579  19.496712  72.425293  29.354538  28.454538   \n",
       "2015-01-06 14:03:00  64.670486  25.922703  76.275040  29.449951  28.549952   \n",
       "2015-01-06 14:04:00  64.746620  26.104692  76.703529  29.574265  28.674263   \n",
       "\n",
       "                     ATT_FLAG  \n",
       "DATETIME                       \n",
       "2015-01-06 14:00:00         0  \n",
       "2015-01-06 14:01:00         0  \n",
       "2015-01-06 14:02:00         0  \n",
       "2015-01-06 14:03:00         0  \n",
       "2015-01-06 14:04:00         0  \n",
       "\n",
       "[5 rows x 44 columns]"
      ]
     },
     "execution_count": 8,
     "metadata": {},
     "output_type": "execute_result"
    }
   ],
   "source": [
    "data.head()"
   ]
  },
  {
   "cell_type": "code",
   "execution_count": 9,
   "metadata": {},
   "outputs": [
    {
     "data": {
      "text/plain": [
       "4.201820402627554"
      ]
     },
     "execution_count": 9,
     "metadata": {},
     "output_type": "execute_result"
    },
    {
     "name": "stderr",
     "output_type": "stream",
     "text": [
      "/usr/local/lib/python2.7/dist-packages/pyemma/__init__.py:134: UserWarning: Python 2.7 usage is deprecated. Future versions of PyEMMA will not support it. Please upgrade your Python installation.\n",
      "  \"Please upgrade your Python installation.\", category=UserWarning)\n"
     ]
    }
   ],
   "source": [
    "data['L_T3'].mean()"
   ]
  },
  {
   "cell_type": "code",
   "execution_count": 10,
   "metadata": {},
   "outputs": [],
   "source": [
    "# definition of the different state\n",
    "x1 = (data['L_T3'] <=3).astype(int)\n",
    "x2= ((data['L_T3'] > 3) & (data['L_T3']<=3.5)).astype(int)\n",
    "x3 = ((data['L_T3'] > 3.5) & (data['L_T3']<=4)).astype(int)\n",
    "x4 = ((data['L_T3'] > 4) & (data['L_T3']<=4.5)).astype(int)\n",
    "x5 = ((data['L_T3'] > 4.5) & (data['L_T3']<=5)).astype(int)\n",
    "x6 = (data['L_T3'] >5).astype(int)\n",
    "df_mm = x1 + 2*x2 + 3*x3 + 4*x4 + 5*x5 + 6*x6\n",
    "\n"
   ]
  },
  {
   "cell_type": "code",
   "execution_count": 253,
   "metadata": {},
   "outputs": [
    {
     "name": "stdout",
     "output_type": "stream",
     "text": [
      "0    8756\n",
      "1       5\n",
      "dtype: int64\n"
     ]
    }
   ],
   "source": [
    "# getting the anomaly labels for our dataset (evaluating sequence of 5 values and anomaly = less than 20% probable)\n",
    "df_anomaly = cf.markovAnomaly(df_mm, 10, 0.20)\n",
    "df_anomaly = pd.Series(df_anomaly)\n",
    "print(df_anomaly.value_counts())"
   ]
  },
  {
   "cell_type": "code",
   "execution_count": 116,
   "metadata": {},
   "outputs": [],
   "source": [
    "data['anomaly24'] = df_anomaly"
   ]
  },
  {
   "cell_type": "code",
   "execution_count": 245,
   "metadata": {},
   "outputs": [
    {
     "name": "stdout",
     "output_type": "stream",
     "text": [
      "365\n",
      "365\n",
      "3\n"
     ]
    }
   ],
   "source": [
    "# SAX discritization\n",
    "from saxpy import SAX\n",
    "\n",
    "s = SAX(3, 3, 1e-6)\n",
    "(x3Strings, x3Indices) = s.sliding_window(data['L_T3'], 350, 0.01)\n",
    "print len(x3Strings)\n",
    "print len(x3Indices)\n",
    "print len(set(x3Strings))\n",
    "#print x3Indices"
   ]
  },
  {
   "cell_type": "code",
   "execution_count": 246,
   "metadata": {
    "scrolled": true
   },
   "outputs": [
    {
     "name": "stdout",
     "output_type": "stream",
     "text": [
      "<type 'set'>\n",
      "cbb 0\n"
     ]
    },
    {
     "name": "stderr",
     "output_type": "stream",
     "text": [
      "/usr/local/lib/python2.7/dist-packages/ipykernel_launcher.py:14: SettingWithCopyWarning: \n",
      "A value is trying to be set on a copy of a slice from a DataFrame\n",
      "\n",
      "See the caveats in the documentation: http://pandas.pydata.org/pandas-docs/stable/indexing.html#indexing-view-versus-copy\n",
      "  \n"
     ]
    },
    {
     "name": "stdout",
     "output_type": "stream",
     "text": [
      "cab 1\n",
      "cba 2\n"
     ]
    }
   ],
   "source": [
    "X=np.array(range(len(data)))\n",
    "#data.insert(0, 'SAX_value', X)\n",
    "\n",
    "sax_data=pd.DataFrame(x3Indices,x3Strings )\n",
    "str_set=set(x3Strings)\n",
    "\n",
    "print type(str_set)\n",
    "for i,item in enumerate(str_set):\n",
    "    start=np.array(sax_data.loc[item][0])\n",
    "    end=np.array(sax_data.loc[item][1])\n",
    "    #print item,i\n",
    "    for j in xrange(len(start)):\n",
    "        #print j\n",
    "        data['SAX_value'][range(start[j],end[j])]=i\n",
    "    "
   ]
  },
  {
   "cell_type": "code",
   "execution_count": 250,
   "metadata": {},
   "outputs": [
    {
     "name": "stdout",
     "output_type": "stream",
     "text": [
      "1    8711\n",
      "0      50\n",
      "dtype: int64\n"
     ]
    }
   ],
   "source": [
    "sax_anomaly = cf.markovAnomaly(data['SAX_value'], 40, 0.20)\n",
    "sax_anomaly = pd.Series(sax_anomaly)\n",
    "print(sax_anomaly.value_counts())"
   ]
  }
 ],
 "metadata": {
  "kernelspec": {
   "display_name": "Python 2",
   "language": "python",
   "name": "python2"
  },
  "language_info": {
   "codemirror_mode": {
    "name": "ipython",
    "version": 2
   },
   "file_extension": ".py",
   "mimetype": "text/x-python",
   "name": "python",
   "nbconvert_exporter": "python",
   "pygments_lexer": "ipython2",
   "version": "2.7.13"
  }
 },
 "nbformat": 4,
 "nbformat_minor": 2
}
